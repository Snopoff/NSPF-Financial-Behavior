{
 "cells": [
  {
   "cell_type": "markdown",
   "id": "b9b484ab-d9da-4011-a998-946b75303199",
   "metadata": {},
   "source": [
    "# Cluster Forecasting"
   ]
  },
  {
   "cell_type": "code",
   "execution_count": 48,
   "id": "b418ad69-b5c3-425f-b081-8cd30ac6182a",
   "metadata": {},
   "outputs": [],
   "source": [
    "import pandas as pd\n",
    "import sketch\n",
    "import ast"
   ]
  },
  {
   "cell_type": "code",
   "execution_count": 2,
   "id": "fd9149c4-72c8-43c1-8950-ff172c153d10",
   "metadata": {},
   "outputs": [],
   "source": [
    "clients_per_clusters_path = 'clean_data/clients_per_clusters.csv'\n",
    "transactions_path = 'train_data_npo/npo_trnsctns.csv'\n",
    "contributors_path = 'train_data_npo/npo_cntrbtrs.csv'\n",
    "\n",
    "clients_features = {\n",
    "    \"clnt_id\" : \"ID клиента\",\n",
    "    \"slctn_nmbr\" : \"Номер выборки\",\n",
    "    \"gndr\" : \"Пол клиента: м: 0, ж: 1\",\n",
    "    \"age\" : \"Возраст клиента, лет\",\n",
    "    \"brth_yr\" : \"Год рождения клиента\",\n",
    "    \"pstl_code\" : \"Почтовый индекс\",\n",
    "    \"city\" : \"Живет клиент в городе (1) или нет (0)\"\n",
    "}\n",
    "\n",
    "contributors_features = {\n",
    "    \"npo_accnt_id\" : \"ID счета клиента\",\n",
    "    \"client_id\" : \"ID клиента\",\n",
    "    \"slctn_nmbr\" : \"Номер выборки\",\n",
    "    \"accnt_pnsn_schm\" : \"Условный код пенсионной схемы счета клиента\",\n",
    "    \"npo_accnt_status\" : \"Статус счета клиента: Закрыт: 0, Открыт: 1\",\n",
    "    \"npo_accnt_status_date\" : \"Дата статуса счета клиента\",\n",
    "    \"npo_blnc\" : \"Баланс счета клиента, руб.\",\n",
    "    \"npo_pmnts_sum\" : \"Сумма взносов клиента, руб.\",\n",
    "    \"npo_pmnts_nmbr\" : \"Число взносов клиента\",\n",
    "    \"npo_frst_pmnt_date\" : \"Дата первого взноса клиента\",\n",
    "    \"npo_lst_pmnt_date\" : \"Дата последнего взноса клиента\",\n",
    "    \"npo_ttl_incm\" : \"Сумма дохода, начисленного на счет клиента, руб.\"\n",
    "}\n",
    "\n",
    "transactions_features = {\n",
    "    \"npo_accnt_id\" : \"ID клиента\",\n",
    "    \"slctn_nmbr\" : \"Номер выборки\",\n",
    "    \"npo_sum\" : \"Размер операции по счету клиента, руб.\",\n",
    "    \"npo_operation_date\" : \"Дата взноса клиента\",\n",
    "    \"npo_operation_group\" : \"Тип операции по счету клиента: Поступление взносов: 0, Начисление дохода: 1\",\n",
    "}"
   ]
  },
  {
   "cell_type": "code",
   "execution_count": 5,
   "id": "b203097b-421b-4346-aca7-e78a6b8d2f6e",
   "metadata": {},
   "outputs": [
    {
     "data": {
      "text/html": [
       "<div>\n",
       "<style scoped>\n",
       "    .dataframe tbody tr th:only-of-type {\n",
       "        vertical-align: middle;\n",
       "    }\n",
       "\n",
       "    .dataframe tbody tr th {\n",
       "        vertical-align: top;\n",
       "    }\n",
       "\n",
       "    .dataframe thead th {\n",
       "        text-align: right;\n",
       "    }\n",
       "</style>\n",
       "<table border=\"1\" class=\"dataframe\">\n",
       "  <thead>\n",
       "    <tr style=\"text-align: right;\">\n",
       "      <th></th>\n",
       "      <th>cluster</th>\n",
       "      <th>clnt_id</th>\n",
       "    </tr>\n",
       "  </thead>\n",
       "  <tbody>\n",
       "    <tr>\n",
       "      <th>0</th>\n",
       "      <td>0</td>\n",
       "      <td>['0x896FDAA89D08B44698884BC6876C3455', '0x7F16...</td>\n",
       "    </tr>\n",
       "    <tr>\n",
       "      <th>1</th>\n",
       "      <td>1</td>\n",
       "      <td>['0x88C8CB57D2D6B14393894C0CBB8A9A4A', '0x1441...</td>\n",
       "    </tr>\n",
       "    <tr>\n",
       "      <th>2</th>\n",
       "      <td>2</td>\n",
       "      <td>['0xE161325D909F9848979ABFE4137216CE', '0xE459...</td>\n",
       "    </tr>\n",
       "  </tbody>\n",
       "</table>\n",
       "</div>"
      ],
      "text/plain": [
       "   cluster                                            clnt_id\n",
       "0        0  ['0x896FDAA89D08B44698884BC6876C3455', '0x7F16...\n",
       "1        1  ['0x88C8CB57D2D6B14393894C0CBB8A9A4A', '0x1441...\n",
       "2        2  ['0xE161325D909F9848979ABFE4137216CE', '0xE459..."
      ]
     },
     "execution_count": 5,
     "metadata": {},
     "output_type": "execute_result"
    }
   ],
   "source": [
    "clients_per_clusters = pd.read_csv(clients_per_clusters_path, index_col=0)\n",
    "clients_per_clusters.head(3)"
   ]
  },
  {
   "cell_type": "code",
   "execution_count": 6,
   "id": "00169963-11a2-4396-9a07-ed886943a49f",
   "metadata": {},
   "outputs": [
    {
     "data": {
      "text/html": [
       "<div>\n",
       "<style scoped>\n",
       "    .dataframe tbody tr th:only-of-type {\n",
       "        vertical-align: middle;\n",
       "    }\n",
       "\n",
       "    .dataframe tbody tr th {\n",
       "        vertical-align: top;\n",
       "    }\n",
       "\n",
       "    .dataframe thead th {\n",
       "        text-align: right;\n",
       "    }\n",
       "</style>\n",
       "<table border=\"1\" class=\"dataframe\">\n",
       "  <thead>\n",
       "    <tr style=\"text-align: right;\">\n",
       "      <th></th>\n",
       "      <th>npo_accnt_id</th>\n",
       "      <th>npo_sum</th>\n",
       "      <th>slctn_nmbr</th>\n",
       "      <th>npo_operation_date</th>\n",
       "      <th>npo_operation_group</th>\n",
       "    </tr>\n",
       "  </thead>\n",
       "  <tbody>\n",
       "    <tr>\n",
       "      <th>0</th>\n",
       "      <td>0x05C7DF8BA2611640BE946E29CF20C6D2</td>\n",
       "      <td>1626.01</td>\n",
       "      <td>0</td>\n",
       "      <td>2011-11-11 00:00:00</td>\n",
       "      <td>0</td>\n",
       "    </tr>\n",
       "    <tr>\n",
       "      <th>1</th>\n",
       "      <td>0x05C7DF8BA2611640BE946E29CF20C6D2</td>\n",
       "      <td>8394.05</td>\n",
       "      <td>0</td>\n",
       "      <td>2010-08-30 00:00:00</td>\n",
       "      <td>1</td>\n",
       "    </tr>\n",
       "    <tr>\n",
       "      <th>2</th>\n",
       "      <td>0x05C7DF8BA2611640BE946E29CF20C6D2</td>\n",
       "      <td>1626.01</td>\n",
       "      <td>0</td>\n",
       "      <td>2007-03-12 00:00:00</td>\n",
       "      <td>0</td>\n",
       "    </tr>\n",
       "  </tbody>\n",
       "</table>\n",
       "</div>"
      ],
      "text/plain": [
       "                         npo_accnt_id  npo_sum  slctn_nmbr  \\\n",
       "0  0x05C7DF8BA2611640BE946E29CF20C6D2  1626.01           0   \n",
       "1  0x05C7DF8BA2611640BE946E29CF20C6D2  8394.05           0   \n",
       "2  0x05C7DF8BA2611640BE946E29CF20C6D2  1626.01           0   \n",
       "\n",
       "    npo_operation_date  npo_operation_group  \n",
       "0  2011-11-11 00:00:00                    0  \n",
       "1  2010-08-30 00:00:00                    1  \n",
       "2  2007-03-12 00:00:00                    0  "
      ]
     },
     "execution_count": 6,
     "metadata": {},
     "output_type": "execute_result"
    }
   ],
   "source": [
    "transactions = pd.read_csv(transactions_path)\n",
    "transactions.head(3)"
   ]
  },
  {
   "cell_type": "code",
   "execution_count": 60,
   "id": "4b5de7ad-e5af-4e2d-b50c-3f64e486e00c",
   "metadata": {
    "collapsed": true,
    "jupyter": {
     "outputs_hidden": true
    }
   },
   "outputs": [
    {
     "name": "stdout",
     "output_type": "stream",
     "text": [
      "<class 'pandas.core.frame.DataFrame'>\n",
      "Index: 9711822 entries, 0 to 12325095\n",
      "Data columns (total 4 columns):\n",
      " #   Column              Dtype  \n",
      "---  ------              -----  \n",
      " 0   clnt_id             object \n",
      " 1   npo_sum             float64\n",
      " 2   slctn_nmbr          int64  \n",
      " 3   npo_operation_date  object \n",
      "dtypes: float64(1), int64(1), object(2)\n",
      "memory usage: 370.5+ MB\n",
      "None\n"
     ]
    },
    {
     "data": {
      "text/html": [
       "<div>\n",
       "<style scoped>\n",
       "    .dataframe tbody tr th:only-of-type {\n",
       "        vertical-align: middle;\n",
       "    }\n",
       "\n",
       "    .dataframe tbody tr th {\n",
       "        vertical-align: top;\n",
       "    }\n",
       "\n",
       "    .dataframe thead th {\n",
       "        text-align: right;\n",
       "    }\n",
       "</style>\n",
       "<table border=\"1\" class=\"dataframe\">\n",
       "  <thead>\n",
       "    <tr style=\"text-align: right;\">\n",
       "      <th></th>\n",
       "      <th>clnt_id</th>\n",
       "      <th>npo_sum</th>\n",
       "      <th>slctn_nmbr</th>\n",
       "      <th>npo_operation_date</th>\n",
       "    </tr>\n",
       "  </thead>\n",
       "  <tbody>\n",
       "    <tr>\n",
       "      <th>0</th>\n",
       "      <td>0x05C7DF8BA2611640BE946E29CF20C6D2</td>\n",
       "      <td>1626.01</td>\n",
       "      <td>0</td>\n",
       "      <td>2011-11-11 00:00:00</td>\n",
       "    </tr>\n",
       "    <tr>\n",
       "      <th>2</th>\n",
       "      <td>0x05C7DF8BA2611640BE946E29CF20C6D2</td>\n",
       "      <td>1626.01</td>\n",
       "      <td>0</td>\n",
       "      <td>2007-03-12 00:00:00</td>\n",
       "    </tr>\n",
       "    <tr>\n",
       "      <th>4</th>\n",
       "      <td>0x05C7DF8BA2611640BE946E29CF20C6D2</td>\n",
       "      <td>1626.01</td>\n",
       "      <td>0</td>\n",
       "      <td>2016-11-05 00:00:00</td>\n",
       "    </tr>\n",
       "  </tbody>\n",
       "</table>\n",
       "</div>"
      ],
      "text/plain": [
       "                              clnt_id  npo_sum  slctn_nmbr  \\\n",
       "0  0x05C7DF8BA2611640BE946E29CF20C6D2  1626.01           0   \n",
       "2  0x05C7DF8BA2611640BE946E29CF20C6D2  1626.01           0   \n",
       "4  0x05C7DF8BA2611640BE946E29CF20C6D2  1626.01           0   \n",
       "\n",
       "    npo_operation_date  \n",
       "0  2011-11-11 00:00:00  \n",
       "2  2007-03-12 00:00:00  \n",
       "4  2016-11-05 00:00:00  "
      ]
     },
     "execution_count": 60,
     "metadata": {},
     "output_type": "execute_result"
    }
   ],
   "source": [
    "client_payments = transactions.loc[transactions['npo_operation_group'] == 0, \n",
    "    ['npo_accnt_id', 'npo_sum', 'slctn_nmbr', 'npo_operation_date']]\n",
    "# Rename column\n",
    "client_payments.rename(columns={'npo_accnt_id':'clnt_id'}, inplace=True)\n",
    "client_payments['clnt_id'] = client_payments['clnt_id'].astype(str)\n",
    "print(client_payments.info())\n",
    "client_payments.head(3)"
   ]
  },
  {
   "cell_type": "code",
   "execution_count": 62,
   "id": "6ee783c1-c77a-4a0b-b97e-a20e5c48e0ee",
   "metadata": {},
   "outputs": [
    {
     "data": {
      "text/html": [
       "<div>\n",
       "<style scoped>\n",
       "    .dataframe tbody tr th:only-of-type {\n",
       "        vertical-align: middle;\n",
       "    }\n",
       "\n",
       "    .dataframe tbody tr th {\n",
       "        vertical-align: top;\n",
       "    }\n",
       "\n",
       "    .dataframe thead th {\n",
       "        text-align: right;\n",
       "    }\n",
       "</style>\n",
       "<table border=\"1\" class=\"dataframe\">\n",
       "  <thead>\n",
       "    <tr style=\"text-align: right;\">\n",
       "      <th></th>\n",
       "      <th>clnt_id</th>\n",
       "      <th>npo_sum</th>\n",
       "      <th>slctn_nmbr</th>\n",
       "      <th>npo_operation_date</th>\n",
       "    </tr>\n",
       "  </thead>\n",
       "  <tbody>\n",
       "    <tr>\n",
       "      <th>0</th>\n",
       "      <td>0x05C7DF8BA2611640BE946E29CF20C6D2</td>\n",
       "      <td>1626.01</td>\n",
       "      <td>0</td>\n",
       "      <td>2011-11-11 00:00:00</td>\n",
       "    </tr>\n",
       "    <tr>\n",
       "      <th>2</th>\n",
       "      <td>0x05C7DF8BA2611640BE946E29CF20C6D2</td>\n",
       "      <td>1626.01</td>\n",
       "      <td>0</td>\n",
       "      <td>2007-03-12 00:00:00</td>\n",
       "    </tr>\n",
       "    <tr>\n",
       "      <th>4</th>\n",
       "      <td>0x05C7DF8BA2611640BE946E29CF20C6D2</td>\n",
       "      <td>1626.01</td>\n",
       "      <td>0</td>\n",
       "      <td>2016-11-05 00:00:00</td>\n",
       "    </tr>\n",
       "  </tbody>\n",
       "</table>\n",
       "</div>"
      ],
      "text/plain": [
       "                              clnt_id  npo_sum  slctn_nmbr  \\\n",
       "0  0x05C7DF8BA2611640BE946E29CF20C6D2  1626.01           0   \n",
       "2  0x05C7DF8BA2611640BE946E29CF20C6D2  1626.01           0   \n",
       "4  0x05C7DF8BA2611640BE946E29CF20C6D2  1626.01           0   \n",
       "\n",
       "    npo_operation_date  \n",
       "0  2011-11-11 00:00:00  \n",
       "2  2007-03-12 00:00:00  \n",
       "4  2016-11-05 00:00:00  "
      ]
     },
     "execution_count": 62,
     "metadata": {},
     "output_type": "execute_result"
    }
   ],
   "source": [
    "client_payments.sketch.howto(\"Group by npo_operation_date \")"
   ]
  },
  {
   "cell_type": "raw",
   "id": "32d42d2a-80c1-4ba1-ade2-453e045ade99",
   "metadata": {},
   "source": [
    "x = ast.literal_eval(clients_per_clusters['clnt_id'][3])\n",
    "print(x[:10])\n",
    "\n",
    "client_payments[client_payments['clnt_id'].isin(x)]['npo_sum']"
   ]
  },
  {
   "cell_type": "markdown",
   "id": "25043d8b-ec50-4288-80b2-29bf9786b086",
   "metadata": {},
   "source": [
    "1 квартал 2005 год"
   ]
  }
 ],
 "metadata": {
  "kernelspec": {
   "display_name": "Python 3 (ipykernel)",
   "language": "python",
   "name": "python3"
  },
  "language_info": {
   "codemirror_mode": {
    "name": "ipython",
    "version": 3
   },
   "file_extension": ".py",
   "mimetype": "text/x-python",
   "name": "python",
   "nbconvert_exporter": "python",
   "pygments_lexer": "ipython3",
   "version": "3.11.5"
  }
 },
 "nbformat": 4,
 "nbformat_minor": 5
}
