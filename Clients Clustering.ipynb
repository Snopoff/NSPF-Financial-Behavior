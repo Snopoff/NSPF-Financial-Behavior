{
 "cells": [
  {
   "cell_type": "markdown",
   "id": "00160057-19c6-43f8-aac3-6fc6c7043979",
   "metadata": {},
   "source": [
    "# Clients Clustering"
   ]
  },
  {
   "cell_type": "code",
   "execution_count": 1,
   "id": "176b4629-d45d-4c5d-9c7e-c75679853b01",
   "metadata": {},
   "outputs": [],
   "source": [
    "import pandas as pd\n",
    "import numpy as np\n",
    "import sketch"
   ]
  },
  {
   "cell_type": "code",
   "execution_count": 3,
   "id": "b2c60c8c-95f3-4166-8536-448329dce36b",
   "metadata": {},
   "outputs": [],
   "source": [
    "clean_clients_path = 'clean_data/clients_df.csv'\n",
    "\n",
    "clients_features = {\n",
    "    \"clnt_id\" : \"ID клиента\",\n",
    "    \"slctn_nmbr\" : \"Номер выборки\",\n",
    "    \"gndr\" : \"Пол клиента: м: 0, ж: 1\",\n",
    "    \"age\" : \"Возраст клиента, лет\",\n",
    "    \"brth_yr\" : \"Год рождения клиента\",\n",
    "    \"pstl_code\" : \"Почтовый индекс\",\n",
    "    \"city\" : \"Живет клиент в городе (1) или нет (0)\"\n",
    "}\n",
    "\n",
    "contributors_features = {\n",
    "    \"npo_accnt_id\" : \"ID счета клиента\",\n",
    "    \"client_id\" : \"ID клиента\",\n",
    "    \"slctn_nmbr\" : \"Номер выборки\",\n",
    "    \"accnt_pnsn_schm\" : \"Условный код пенсионной схемы счета клиента\",\n",
    "    \"npo_accnt_status\" : \"Статус счета клиента: Закрыт: 0, Открыт: 1\",\n",
    "    \"npo_accnt_status_date\" : \"Дата статуса счета клиента\",\n",
    "    \"npo_blnc\" : \"Баланс счета клиента, руб.\",\n",
    "    \"npo_pmnts_sum\" : \"Сумма взносов клиента, руб.\",\n",
    "    \"npo_pmnts_nmbr\" : \"Число взносов клиента\",\n",
    "    \"npo_frst_pmnt_date\" : \"Дата первого взноса клиента\",\n",
    "    \"npo_lst_pmnt_date\" : \"Дата последнего взноса клиента\",\n",
    "    \"npo_ttl_incm\" : \"Сумма дохода, начисленного на счет клиента, руб.\"\n",
    "}\n",
    "\n",
    "transactions_features = {\n",
    "    \"npo_accnt_id\" : \"ID клиента\",\n",
    "    \"slctn_nmbr\" : \"Номер выборки\",\n",
    "    \"npo_sum\" : \"Размер операции по счету клиента, руб.\",\n",
    "    \"npo_operation_date\" : \"Дата взноса клиента\",\n",
    "    \"npo_operation_group\" : \"Тип операции по счету клиента: Поступление взносов: 0, Начисление дохода: 1\",\n",
    "}"
   ]
  },
  {
   "cell_type": "code",
   "execution_count": 4,
   "id": "ae0be5e3-439f-4680-a678-c350e5c54000",
   "metadata": {},
   "outputs": [
    {
     "data": {
      "text/html": [
       "<div>\n",
       "<style scoped>\n",
       "    .dataframe tbody tr th:only-of-type {\n",
       "        vertical-align: middle;\n",
       "    }\n",
       "\n",
       "    .dataframe tbody tr th {\n",
       "        vertical-align: top;\n",
       "    }\n",
       "\n",
       "    .dataframe thead th {\n",
       "        text-align: right;\n",
       "    }\n",
       "</style>\n",
       "<table border=\"1\" class=\"dataframe\">\n",
       "  <thead>\n",
       "    <tr style=\"text-align: right;\">\n",
       "      <th></th>\n",
       "      <th>clnt_id</th>\n",
       "      <th>gndr</th>\n",
       "      <th>slctn_nmbr</th>\n",
       "      <th>age</th>\n",
       "      <th>brth_yr</th>\n",
       "      <th>pstl_code</th>\n",
       "      <th>city</th>\n",
       "      <th>state_name</th>\n",
       "    </tr>\n",
       "  </thead>\n",
       "  <tbody>\n",
       "    <tr>\n",
       "      <th>0</th>\n",
       "      <td>0xD1930AC934CD0D4AB6141DF45637EFE4</td>\n",
       "      <td>1.0</td>\n",
       "      <td>2</td>\n",
       "      <td>74.0</td>\n",
       "      <td>1949.0</td>\n",
       "      <td>188544</td>\n",
       "      <td>0</td>\n",
       "      <td>Ленинградская Область</td>\n",
       "    </tr>\n",
       "    <tr>\n",
       "      <th>1</th>\n",
       "      <td>0x25DCE99C94913C42A49F739DDA3AE81A</td>\n",
       "      <td>0.0</td>\n",
       "      <td>2</td>\n",
       "      <td>62.0</td>\n",
       "      <td>1961.0</td>\n",
       "      <td>398046</td>\n",
       "      <td>0</td>\n",
       "      <td>Липецкая Область</td>\n",
       "    </tr>\n",
       "    <tr>\n",
       "      <th>2</th>\n",
       "      <td>0xCF29021EFE24454693866565B7CAB0D8</td>\n",
       "      <td>1.0</td>\n",
       "      <td>0</td>\n",
       "      <td>69.0</td>\n",
       "      <td>1954.0</td>\n",
       "      <td>162609.0</td>\n",
       "      <td>0</td>\n",
       "      <td>Вологодская Область</td>\n",
       "    </tr>\n",
       "  </tbody>\n",
       "</table>\n",
       "</div>"
      ],
      "text/plain": [
       "                              clnt_id  gndr  slctn_nmbr   age  brth_yr  \\\n",
       "0  0xD1930AC934CD0D4AB6141DF45637EFE4   1.0           2  74.0   1949.0   \n",
       "1  0x25DCE99C94913C42A49F739DDA3AE81A   0.0           2  62.0   1961.0   \n",
       "2  0xCF29021EFE24454693866565B7CAB0D8   1.0           0  69.0   1954.0   \n",
       "\n",
       "  pstl_code  city             state_name  \n",
       "0    188544     0  Ленинградская Область  \n",
       "1    398046     0       Липецкая Область  \n",
       "2  162609.0     0    Вологодская Область  "
      ]
     },
     "execution_count": 4,
     "metadata": {},
     "output_type": "execute_result"
    }
   ],
   "source": [
    "clients = pd.read_csv(clean_clients_path)\n",
    "clients.head(3)"
   ]
  },
  {
   "cell_type": "code",
   "execution_count": 6,
   "id": "3948db4a-edce-4db7-8856-199332f7902d",
   "metadata": {},
   "outputs": [
    {
     "data": {
      "text/plain": [
       "slctn_nmbr\n",
       "0    70\n",
       "1    78\n",
       "2    78\n",
       "3    66\n",
       "Name: state_name, dtype: int64"
      ]
     },
     "execution_count": 6,
     "metadata": {},
     "output_type": "execute_result"
    }
   ],
   "source": [
    "clients.sketch.howto(\"group by column slctn_nmbr and then group by state_name\")"
   ]
  },
  {
   "cell_type": "code",
   "execution_count": null,
   "id": "402762e9-4489-4f6f-96af-14c9ad490b2d",
   "metadata": {},
   "outputs": [],
   "source": []
  }
 ],
 "metadata": {
  "kernelspec": {
   "display_name": "Python 3 (ipykernel)",
   "language": "python",
   "name": "python3"
  },
  "language_info": {
   "codemirror_mode": {
    "name": "ipython",
    "version": 3
   },
   "file_extension": ".py",
   "mimetype": "text/x-python",
   "name": "python",
   "nbconvert_exporter": "python",
   "pygments_lexer": "ipython3",
   "version": "3.11.5"
  }
 },
 "nbformat": 4,
 "nbformat_minor": 5
}
