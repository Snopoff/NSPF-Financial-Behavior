{
 "cells": [
  {
   "cell_type": "markdown",
   "id": "8cd78147-e521-4b3a-b39d-b7fc5826dd34",
   "metadata": {},
   "source": [
    "# Predictions"
   ]
  },
  {
   "cell_type": "code",
   "execution_count": 55,
   "id": "5d7f3f8f-3a83-4e8f-aaba-bc2dfb2df9ea",
   "metadata": {},
   "outputs": [],
   "source": [
    "import pandas as pd\n",
    "import sketch\n",
    "\n",
    "import lightgbm as lgb \n",
    "from sklearn.metrics import r2_score, mean_absolute_error\n",
    "import pickle"
   ]
  },
  {
   "cell_type": "code",
   "execution_count": 9,
   "id": "41f484b4-69b6-4fc2-9f63-c8feed521e94",
   "metadata": {},
   "outputs": [
    {
     "data": {
      "text/html": [
       "<div style=\"display:flex;flex-direction:row;justify-content:space-between;\">\n",
       "                <pre style=\"width: 100%; white-space: pre-wrap;\" id=\"d434bced-fa95-4dc9-a4c7-8230a52e3958\">\n",
       "# Rename the unnamed column\n",
       "df_moex.rename(columns={'Unnamed: 0': 'date'}, inplace=True)\n",
       "</pre>\n",
       "                <button style=\"height: fit-content;\" onclick=\"navigator.clipboard.writeText(JSON.parse(atob(`IlxuIyBSZW5hbWUgdGhlIHVubmFtZWQgY29sdW1uXG5kZl9tb2V4LnJlbmFtZShjb2x1bW5zPXsnVW5uYW1lZDogMCc6ICdkYXRlJ30sIGlucGxhY2U9VHJ1ZSlcbiI=`)))\">Copy</button>\n",
       "                </div>"
      ],
      "text/plain": [
       "<IPython.core.display.HTML object>"
      ]
     },
     "metadata": {},
     "output_type": "display_data"
    }
   ],
   "source": [
    "df_moex.sketch.howto(\"Rename an unnamed column\")"
   ]
  },
  {
   "cell_type": "code",
   "execution_count": 24,
   "id": "5c2ff031-5271-4d2b-a26f-535668c20383",
   "metadata": {},
   "outputs": [
    {
     "data": {
      "text/html": [
       "<div>\n",
       "<style scoped>\n",
       "    .dataframe tbody tr th:only-of-type {\n",
       "        vertical-align: middle;\n",
       "    }\n",
       "\n",
       "    .dataframe tbody tr th {\n",
       "        vertical-align: top;\n",
       "    }\n",
       "\n",
       "    .dataframe thead th {\n",
       "        text-align: right;\n",
       "    }\n",
       "</style>\n",
       "<table border=\"1\" class=\"dataframe\">\n",
       "  <thead>\n",
       "    <tr style=\"text-align: right;\">\n",
       "      <th></th>\n",
       "      <th>quarter</th>\n",
       "      <th>moex</th>\n",
       "    </tr>\n",
       "  </thead>\n",
       "  <tbody>\n",
       "    <tr>\n",
       "      <th>0</th>\n",
       "      <td>2022-01-01</td>\n",
       "      <td>461.0</td>\n",
       "    </tr>\n",
       "    <tr>\n",
       "      <th>1</th>\n",
       "      <td>2022-04-01</td>\n",
       "      <td>461.0</td>\n",
       "    </tr>\n",
       "    <tr>\n",
       "      <th>2</th>\n",
       "      <td>2022-07-01</td>\n",
       "      <td>461.0</td>\n",
       "    </tr>\n",
       "  </tbody>\n",
       "</table>\n",
       "</div>"
      ],
      "text/plain": [
       "      quarter   moex\n",
       "0  2022-01-01  461.0\n",
       "1  2022-04-01  461.0\n",
       "2  2022-07-01  461.0"
      ]
     },
     "execution_count": 24,
     "metadata": {},
     "output_type": "execute_result"
    }
   ],
   "source": [
    "df_moex = pd.read_csv(\"clean_data/pred_moex.csv\")\n",
    "df_moex.rename(columns={'Unnamed: 0': \"quarter\", \"value\":\"moex\"}, inplace=True)\n",
    "df_moex.head(3)"
   ]
  },
  {
   "cell_type": "code",
   "execution_count": 21,
   "id": "8b6b4de9-71c7-4b22-b75a-2a4447407c1f",
   "metadata": {},
   "outputs": [
    {
     "data": {
      "text/html": [
       "<div>\n",
       "<style scoped>\n",
       "    .dataframe tbody tr th:only-of-type {\n",
       "        vertical-align: middle;\n",
       "    }\n",
       "\n",
       "    .dataframe tbody tr th {\n",
       "        vertical-align: top;\n",
       "    }\n",
       "\n",
       "    .dataframe thead th {\n",
       "        text-align: right;\n",
       "    }\n",
       "</style>\n",
       "<table border=\"1\" class=\"dataframe\">\n",
       "  <thead>\n",
       "    <tr style=\"text-align: right;\">\n",
       "      <th></th>\n",
       "      <th>quarter</th>\n",
       "      <th>bond</th>\n",
       "    </tr>\n",
       "  </thead>\n",
       "  <tbody>\n",
       "    <tr>\n",
       "      <th>0</th>\n",
       "      <td>2022-01-01</td>\n",
       "      <td>6.360632e+10</td>\n",
       "    </tr>\n",
       "    <tr>\n",
       "      <th>1</th>\n",
       "      <td>2022-04-01</td>\n",
       "      <td>8.804385e+10</td>\n",
       "    </tr>\n",
       "    <tr>\n",
       "      <th>2</th>\n",
       "      <td>2022-07-01</td>\n",
       "      <td>7.901886e+10</td>\n",
       "    </tr>\n",
       "  </tbody>\n",
       "</table>\n",
       "</div>"
      ],
      "text/plain": [
       "      quarter          bond\n",
       "0  2022-01-01  6.360632e+10\n",
       "1  2022-04-01  8.804385e+10\n",
       "2  2022-07-01  7.901886e+10"
      ]
     },
     "execution_count": 21,
     "metadata": {},
     "output_type": "execute_result"
    }
   ],
   "source": [
    "df_bond = pd.read_csv(\"clean_data/pred_bond.csv\")\n",
    "df_bond.rename(columns={'Unnamed: 0': \"quarter\", \"value\":\"bond\"}, inplace=True)\n",
    "df_bond.head(3)"
   ]
  },
  {
   "cell_type": "code",
   "execution_count": 22,
   "id": "696f5852-0baf-4e97-a455-5bf4fa6ca4b6",
   "metadata": {},
   "outputs": [
    {
     "data": {
      "text/html": [
       "<div>\n",
       "<style scoped>\n",
       "    .dataframe tbody tr th:only-of-type {\n",
       "        vertical-align: middle;\n",
       "    }\n",
       "\n",
       "    .dataframe tbody tr th {\n",
       "        vertical-align: top;\n",
       "    }\n",
       "\n",
       "    .dataframe thead th {\n",
       "        text-align: right;\n",
       "    }\n",
       "</style>\n",
       "<table border=\"1\" class=\"dataframe\">\n",
       "  <thead>\n",
       "    <tr style=\"text-align: right;\">\n",
       "      <th></th>\n",
       "      <th>quarter</th>\n",
       "      <th>ppl</th>\n",
       "    </tr>\n",
       "  </thead>\n",
       "  <tbody>\n",
       "    <tr>\n",
       "      <th>0</th>\n",
       "      <td>2022-01-01</td>\n",
       "      <td>4496.708670</td>\n",
       "    </tr>\n",
       "    <tr>\n",
       "      <th>1</th>\n",
       "      <td>2022-04-01</td>\n",
       "      <td>4417.655017</td>\n",
       "    </tr>\n",
       "    <tr>\n",
       "      <th>2</th>\n",
       "      <td>2022-07-01</td>\n",
       "      <td>4523.592399</td>\n",
       "    </tr>\n",
       "  </tbody>\n",
       "</table>\n",
       "</div>"
      ],
      "text/plain": [
       "      quarter          ppl\n",
       "0  2022-01-01  4496.708670\n",
       "1  2022-04-01  4417.655017\n",
       "2  2022-07-01  4523.592399"
      ]
     },
     "execution_count": 22,
     "metadata": {},
     "output_type": "execute_result"
    }
   ],
   "source": [
    "df_ppl = pd.read_csv(\"clean_data/pred_count_people.csv\")\n",
    "df_ppl.rename(columns={'Unnamed: 0': \"quarter\", \"value\":\"ppl\"}, inplace=True)\n",
    "df_ppl.head(3)"
   ]
  },
  {
   "cell_type": "code",
   "execution_count": 23,
   "id": "921c8098-4c5a-4f21-8332-80d79f122628",
   "metadata": {},
   "outputs": [
    {
     "data": {
      "text/html": [
       "<div>\n",
       "<style scoped>\n",
       "    .dataframe tbody tr th:only-of-type {\n",
       "        vertical-align: middle;\n",
       "    }\n",
       "\n",
       "    .dataframe tbody tr th {\n",
       "        vertical-align: top;\n",
       "    }\n",
       "\n",
       "    .dataframe thead th {\n",
       "        text-align: right;\n",
       "    }\n",
       "</style>\n",
       "<table border=\"1\" class=\"dataframe\">\n",
       "  <thead>\n",
       "    <tr style=\"text-align: right;\">\n",
       "      <th></th>\n",
       "      <th>quarter</th>\n",
       "      <th>employ</th>\n",
       "    </tr>\n",
       "  </thead>\n",
       "  <tbody>\n",
       "    <tr>\n",
       "      <th>0</th>\n",
       "      <td>2022-01-01</td>\n",
       "      <td>13778.757049</td>\n",
       "    </tr>\n",
       "    <tr>\n",
       "      <th>1</th>\n",
       "      <td>2022-04-01</td>\n",
       "      <td>13641.737420</td>\n",
       "    </tr>\n",
       "    <tr>\n",
       "      <th>2</th>\n",
       "      <td>2022-07-01</td>\n",
       "      <td>13687.231508</td>\n",
       "    </tr>\n",
       "  </tbody>\n",
       "</table>\n",
       "</div>"
      ],
      "text/plain": [
       "      quarter        employ\n",
       "0  2022-01-01  13778.757049\n",
       "1  2022-04-01  13641.737420\n",
       "2  2022-07-01  13687.231508"
      ]
     },
     "execution_count": 23,
     "metadata": {},
     "output_type": "execute_result"
    }
   ],
   "source": [
    "df_employ = pd.read_csv(\"clean_data/pred_unemploy.csv\")\n",
    "df_employ.rename(columns={'Unnamed: 0': \"quarter\", \"value\":\"employ\"}, inplace=True)\n",
    "df_employ.head(3)"
   ]
  },
  {
   "cell_type": "code",
   "execution_count": 26,
   "id": "0fba4426-b904-4a71-a63b-01c784c20a9b",
   "metadata": {},
   "outputs": [
    {
     "data": {
      "text/html": [
       "<div>\n",
       "<style scoped>\n",
       "    .dataframe tbody tr th:only-of-type {\n",
       "        vertical-align: middle;\n",
       "    }\n",
       "\n",
       "    .dataframe tbody tr th {\n",
       "        vertical-align: top;\n",
       "    }\n",
       "\n",
       "    .dataframe thead th {\n",
       "        text-align: right;\n",
       "    }\n",
       "</style>\n",
       "<table border=\"1\" class=\"dataframe\">\n",
       "  <thead>\n",
       "    <tr style=\"text-align: right;\">\n",
       "      <th></th>\n",
       "      <th>quarter</th>\n",
       "      <th>moex</th>\n",
       "      <th>bond</th>\n",
       "      <th>ppl</th>\n",
       "      <th>employ</th>\n",
       "    </tr>\n",
       "  </thead>\n",
       "  <tbody>\n",
       "    <tr>\n",
       "      <th>0</th>\n",
       "      <td>2022-01-01</td>\n",
       "      <td>461.0</td>\n",
       "      <td>6.360632e+10</td>\n",
       "      <td>4496.708670</td>\n",
       "      <td>13778.757049</td>\n",
       "    </tr>\n",
       "    <tr>\n",
       "      <th>1</th>\n",
       "      <td>2022-04-01</td>\n",
       "      <td>461.0</td>\n",
       "      <td>8.804385e+10</td>\n",
       "      <td>4417.655017</td>\n",
       "      <td>13641.737420</td>\n",
       "    </tr>\n",
       "    <tr>\n",
       "      <th>2</th>\n",
       "      <td>2022-07-01</td>\n",
       "      <td>461.0</td>\n",
       "      <td>7.901886e+10</td>\n",
       "      <td>4523.592399</td>\n",
       "      <td>13687.231508</td>\n",
       "    </tr>\n",
       "    <tr>\n",
       "      <th>3</th>\n",
       "      <td>2022-10-01</td>\n",
       "      <td>461.0</td>\n",
       "      <td>6.926884e+10</td>\n",
       "      <td>4536.165980</td>\n",
       "      <td>13929.105980</td>\n",
       "    </tr>\n",
       "    <tr>\n",
       "      <th>4</th>\n",
       "      <td>2023-01-01</td>\n",
       "      <td>461.0</td>\n",
       "      <td>7.225215e+10</td>\n",
       "      <td>4559.398183</td>\n",
       "      <td>14181.101295</td>\n",
       "    </tr>\n",
       "  </tbody>\n",
       "</table>\n",
       "</div>"
      ],
      "text/plain": [
       "      quarter   moex          bond          ppl        employ\n",
       "0  2022-01-01  461.0  6.360632e+10  4496.708670  13778.757049\n",
       "1  2022-04-01  461.0  8.804385e+10  4417.655017  13641.737420\n",
       "2  2022-07-01  461.0  7.901886e+10  4523.592399  13687.231508\n",
       "3  2022-10-01  461.0  6.926884e+10  4536.165980  13929.105980\n",
       "4  2023-01-01  461.0  7.225215e+10  4559.398183  14181.101295"
      ]
     },
     "execution_count": 26,
     "metadata": {},
     "output_type": "execute_result"
    }
   ],
   "source": [
    "pred_df = pd.merge(pd.merge(pd.merge(df_moex, df_bond, on='quarter'), df_ppl, on='quarter'), df_employ, on='quarter')\n",
    "pred_df.head()"
   ]
  },
  {
   "cell_type": "code",
   "execution_count": 32,
   "id": "ad74a853-fd0f-4e78-8abe-61664d8525b8",
   "metadata": {},
   "outputs": [
    {
     "data": {
      "text/html": [
       "<div>\n",
       "<style scoped>\n",
       "    .dataframe tbody tr th:only-of-type {\n",
       "        vertical-align: middle;\n",
       "    }\n",
       "\n",
       "    .dataframe tbody tr th {\n",
       "        vertical-align: top;\n",
       "    }\n",
       "\n",
       "    .dataframe thead th {\n",
       "        text-align: right;\n",
       "    }\n",
       "</style>\n",
       "<table border=\"1\" class=\"dataframe\">\n",
       "  <thead>\n",
       "    <tr style=\"text-align: right;\">\n",
       "      <th></th>\n",
       "      <th>moex</th>\n",
       "      <th>bond</th>\n",
       "      <th>ppl</th>\n",
       "      <th>employ</th>\n",
       "      <th>year</th>\n",
       "      <th>month</th>\n",
       "      <th>day</th>\n",
       "    </tr>\n",
       "  </thead>\n",
       "  <tbody>\n",
       "    <tr>\n",
       "      <th>0</th>\n",
       "      <td>461.0</td>\n",
       "      <td>6.360632e+10</td>\n",
       "      <td>4496.708670</td>\n",
       "      <td>13778.757049</td>\n",
       "      <td>2022</td>\n",
       "      <td>1</td>\n",
       "      <td>1</td>\n",
       "    </tr>\n",
       "    <tr>\n",
       "      <th>1</th>\n",
       "      <td>461.0</td>\n",
       "      <td>8.804385e+10</td>\n",
       "      <td>4417.655017</td>\n",
       "      <td>13641.737420</td>\n",
       "      <td>2022</td>\n",
       "      <td>4</td>\n",
       "      <td>1</td>\n",
       "    </tr>\n",
       "    <tr>\n",
       "      <th>2</th>\n",
       "      <td>461.0</td>\n",
       "      <td>7.901886e+10</td>\n",
       "      <td>4523.592399</td>\n",
       "      <td>13687.231508</td>\n",
       "      <td>2022</td>\n",
       "      <td>7</td>\n",
       "      <td>1</td>\n",
       "    </tr>\n",
       "  </tbody>\n",
       "</table>\n",
       "</div>"
      ],
      "text/plain": [
       "    moex          bond          ppl        employ  year  month  day\n",
       "0  461.0  6.360632e+10  4496.708670  13778.757049  2022      1    1\n",
       "1  461.0  8.804385e+10  4417.655017  13641.737420  2022      4    1\n",
       "2  461.0  7.901886e+10  4523.592399  13687.231508  2022      7    1"
      ]
     },
     "execution_count": 32,
     "metadata": {},
     "output_type": "execute_result"
    }
   ],
   "source": [
    "pred_df['year'] = pd.to_datetime(pred_df.quarter).dt.year\n",
    "pred_df['month'] = pd.to_datetime(pred_df.quarter).dt.month\n",
    "pred_df['day'] = pd.to_datetime(pred_df.quarter).dt.day\n",
    "pred_df.drop(columns=['quarter'], inplace=True)\n",
    "pred_df.head(3)"
   ]
  },
  {
   "cell_type": "code",
   "execution_count": 53,
   "id": "7ddc07a8-e1fe-48d8-875d-95bb3ed194d3",
   "metadata": {},
   "outputs": [],
   "source": [
    "with open('model/placeholder.pkl', 'rb') as f:\n",
    "    params = pickle.load(f)\n",
    "params[\"verbose\"] = -1"
   ]
  },
  {
   "cell_type": "code",
   "execution_count": 39,
   "id": "f93ab2eb-03ea-44c0-ae84-d02204eb59cd",
   "metadata": {},
   "outputs": [],
   "source": [
    "quarterly_data = pd.read_csv('clean_data/quarterly_data.csv', index_col=0)\n",
    "dataframes_slctn_cluster = [None]*4\n",
    "# Select all columns except cluster and slctn_number by specific value of cluster AND slctn_number\n",
    "cluster_vals = range(4)\n",
    "slctn_number_vals = range(4)\n",
    "\n",
    "# Get the columns to keep\n",
    "columns_to_keep = quarterly_data.columns.difference(['cluster', 'slctn_nmbr'])\n",
    "\n",
    "for cluster_val in cluster_vals:\n",
    "    dataframes_slctn_cluster[cluster_val] = [None] * 4\n",
    "    for slctn_number_val in slctn_number_vals:\n",
    "        filtered_df = quarterly_data[(quarterly_data['cluster'] == cluster_val) & (quarterly_data['slctn_nmbr'] == slctn_number_val)]\n",
    "        res = filtered_df[columns_to_keep]\n",
    "        #res['prev_npo_sum'] = res['npo_sum'].shift(1,fill_value=res.iloc[0]['npo_sum'])\n",
    "        dataframes_slctn_cluster[cluster_val][slctn_number_val] = res"
   ]
  },
  {
   "cell_type": "code",
   "execution_count": 43,
   "id": "a962d185-75ea-4268-a080-47ec8e25697d",
   "metadata": {},
   "outputs": [],
   "source": [
    "def train_test_split(df):\n",
    "    train_size = int(len(df) * 0.8)\n",
    "    train_data, test_data = df.iloc[:train_size, :], df.iloc[train_size:, :]\n",
    "    X_train = train_data.loc[:, df.columns != \"npo_sum\"]\n",
    "    y_train = train_data.loc[:, \"npo_sum\"]\n",
    "    X_test = test_data.loc[:, df.columns != \"npo_sum\"]\n",
    "    y_test = test_data.loc[:, \"npo_sum\"]\n",
    "    return X_train, y_train, X_test, y_test\n",
    "\n",
    "X_train, y_train, X_test, y_test = train_test_split(dataframes_slctn_cluster[3][3])"
   ]
  },
  {
   "cell_type": "code",
   "execution_count": 54,
   "id": "b492f3f7-3735-4c0d-8ef7-109da72519ca",
   "metadata": {},
   "outputs": [
    {
     "data": {
      "text/plain": [
       "-0.8011411548052882"
      ]
     },
     "execution_count": 54,
     "metadata": {},
     "output_type": "execute_result"
    }
   ],
   "source": [
    "model = lgb.LGBMRegressor(**params, )\n",
    "model.fit(X_train, y_train)\n",
    "pred = model.predict(X_test)\n",
    "r2_score(y_test, pred)"
   ]
  },
  {
   "cell_type": "code",
   "execution_count": 58,
   "id": "1a977123-797e-41da-87d2-f779c0988613",
   "metadata": {},
   "outputs": [],
   "source": [
    "pred_df[\"prediction_S3_C3\"] = model.predict(pred_df)"
   ]
  },
  {
   "cell_type": "code",
   "execution_count": null,
   "id": "17552c9c-e81b-41b1-b51d-ccff9c15d83d",
   "metadata": {},
   "outputs": [],
   "source": [
    "%%time\n",
    "predictions_per_selection = [None]*4\n",
    "for i in slctn_number_vals:\n",
    "    best_trials_slctn_clusters[i] = [None]*4\n",
    "    for j in cluster_vals:\n",
    "        print(\"--------------\")\n",
    "        print(f\"Current Selection Number is {i} and Cluster Number is {j}\")\n",
    "        X_train, y_train, X_test, y_test = train_test_split(dataframes_slctn_cluster[i][j])\n",
    "        with open(f'model/model_params_{i}_{j}.pkl', 'rb') as f:\n",
    "            params = pickle.load(f)\n",
    "        params[\"verbose\"] = -1\n",
    "        model = lgb.LGBMRegressor(**params, )\n",
    "        model.fit(X_train, y_train)\n",
    "        pred = model.predict(X_test)\n",
    "        r2 = r2_score(y_test, pred)\n",
    "        mae = mean_absolute_error(y_test, pred)\n",
    "        print(f\"R2 = {r2}\\tMAE={mae}\")\n",
    "        best_trials_slctn_clusters[i][j] = pred\n",
    "    pred_df[f\"prediction_S{i}\"] = model.predict(sum(best_trials_slctn_clusters[i]))"
   ]
  },
  {
   "cell_type": "code",
   "execution_count": 50,
   "id": "b60f3895-947b-4312-946c-56ec7b30223f",
   "metadata": {},
   "outputs": [],
   "source": [
    "def pension_calc(start_payment, payment, age_start, age_finish, retirement_years, percent=0.06,):\n",
    "    years = age_finish-age_start\n",
    "    V = payment * ((1 + percent)**years - 1) / percent\n",
    "    V += start_payment * (1 + percent)**years\n",
    "    pension = V / 12 / retirement_years\n",
    "    return pension"
   ]
  }
 ],
 "metadata": {
  "kernelspec": {
   "display_name": "Python 3 (ipykernel)",
   "language": "python",
   "name": "python3"
  },
  "language_info": {
   "codemirror_mode": {
    "name": "ipython",
    "version": 3
   },
   "file_extension": ".py",
   "mimetype": "text/x-python",
   "name": "python",
   "nbconvert_exporter": "python",
   "pygments_lexer": "ipython3",
   "version": "3.11.5"
  }
 },
 "nbformat": 4,
 "nbformat_minor": 5
}
