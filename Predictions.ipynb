{
 "cells": [
  {
   "cell_type": "markdown",
   "id": "8cd78147-e521-4b3a-b39d-b7fc5826dd34",
   "metadata": {},
   "source": [
    "# Predictions"
   ]
  },
  {
   "cell_type": "code",
   "execution_count": 176,
   "id": "5d7f3f8f-3a83-4e8f-aaba-bc2dfb2df9ea",
   "metadata": {},
   "outputs": [],
   "source": [
    "import pandas as pd\n",
    "import sketch\n",
    "\n",
    "import lightgbm as lgb \n",
    "from sklearn.metrics import r2_score, mean_absolute_error\n",
    "import pickle"
   ]
  },
  {
   "cell_type": "code",
   "execution_count": 177,
   "id": "5c2ff031-5271-4d2b-a26f-535668c20383",
   "metadata": {},
   "outputs": [
    {
     "data": {
      "text/html": [
       "<div>\n",
       "<style scoped>\n",
       "    .dataframe tbody tr th:only-of-type {\n",
       "        vertical-align: middle;\n",
       "    }\n",
       "\n",
       "    .dataframe tbody tr th {\n",
       "        vertical-align: top;\n",
       "    }\n",
       "\n",
       "    .dataframe thead th {\n",
       "        text-align: right;\n",
       "    }\n",
       "</style>\n",
       "<table border=\"1\" class=\"dataframe\">\n",
       "  <thead>\n",
       "    <tr style=\"text-align: right;\">\n",
       "      <th></th>\n",
       "      <th>quarter</th>\n",
       "      <th>moex</th>\n",
       "    </tr>\n",
       "  </thead>\n",
       "  <tbody>\n",
       "    <tr>\n",
       "      <th>0</th>\n",
       "      <td>2022-01-01</td>\n",
       "      <td>461.0</td>\n",
       "    </tr>\n",
       "    <tr>\n",
       "      <th>1</th>\n",
       "      <td>2022-04-01</td>\n",
       "      <td>461.0</td>\n",
       "    </tr>\n",
       "    <tr>\n",
       "      <th>2</th>\n",
       "      <td>2022-07-01</td>\n",
       "      <td>461.0</td>\n",
       "    </tr>\n",
       "  </tbody>\n",
       "</table>\n",
       "</div>"
      ],
      "text/plain": [
       "      quarter   moex\n",
       "0  2022-01-01  461.0\n",
       "1  2022-04-01  461.0\n",
       "2  2022-07-01  461.0"
      ]
     },
     "execution_count": 177,
     "metadata": {},
     "output_type": "execute_result"
    }
   ],
   "source": [
    "df_moex = pd.read_csv(\"clean_data/pred_moex.csv\")\n",
    "df_moex.rename(columns={'Unnamed: 0': \"quarter\", \"value\":\"moex\"}, inplace=True)\n",
    "df_moex.head(3)"
   ]
  },
  {
   "cell_type": "code",
   "execution_count": 178,
   "id": "8b6b4de9-71c7-4b22-b75a-2a4447407c1f",
   "metadata": {},
   "outputs": [
    {
     "data": {
      "text/html": [
       "<div>\n",
       "<style scoped>\n",
       "    .dataframe tbody tr th:only-of-type {\n",
       "        vertical-align: middle;\n",
       "    }\n",
       "\n",
       "    .dataframe tbody tr th {\n",
       "        vertical-align: top;\n",
       "    }\n",
       "\n",
       "    .dataframe thead th {\n",
       "        text-align: right;\n",
       "    }\n",
       "</style>\n",
       "<table border=\"1\" class=\"dataframe\">\n",
       "  <thead>\n",
       "    <tr style=\"text-align: right;\">\n",
       "      <th></th>\n",
       "      <th>quarter</th>\n",
       "      <th>rgb_price</th>\n",
       "    </tr>\n",
       "  </thead>\n",
       "  <tbody>\n",
       "    <tr>\n",
       "      <th>0</th>\n",
       "      <td>2022-01-01</td>\n",
       "      <td>6.360632e+10</td>\n",
       "    </tr>\n",
       "    <tr>\n",
       "      <th>1</th>\n",
       "      <td>2022-04-01</td>\n",
       "      <td>8.804385e+10</td>\n",
       "    </tr>\n",
       "    <tr>\n",
       "      <th>2</th>\n",
       "      <td>2022-07-01</td>\n",
       "      <td>7.901886e+10</td>\n",
       "    </tr>\n",
       "  </tbody>\n",
       "</table>\n",
       "</div>"
      ],
      "text/plain": [
       "      quarter     rgb_price\n",
       "0  2022-01-01  6.360632e+10\n",
       "1  2022-04-01  8.804385e+10\n",
       "2  2022-07-01  7.901886e+10"
      ]
     },
     "execution_count": 178,
     "metadata": {},
     "output_type": "execute_result"
    }
   ],
   "source": [
    "df_bond = pd.read_csv(\"clean_data/pred_bond.csv\")\n",
    "df_bond.rename(columns={'Unnamed: 0': \"quarter\", \"value\":\"rgb_price\"}, inplace=True)\n",
    "df_bond.head(3)"
   ]
  },
  {
   "cell_type": "code",
   "execution_count": 179,
   "id": "696f5852-0baf-4e97-a455-5bf4fa6ca4b6",
   "metadata": {},
   "outputs": [
    {
     "data": {
      "text/html": [
       "<div>\n",
       "<style scoped>\n",
       "    .dataframe tbody tr th:only-of-type {\n",
       "        vertical-align: middle;\n",
       "    }\n",
       "\n",
       "    .dataframe tbody tr th {\n",
       "        vertical-align: top;\n",
       "    }\n",
       "\n",
       "    .dataframe thead th {\n",
       "        text-align: right;\n",
       "    }\n",
       "</style>\n",
       "<table border=\"1\" class=\"dataframe\">\n",
       "  <thead>\n",
       "    <tr style=\"text-align: right;\">\n",
       "      <th></th>\n",
       "      <th>quarter</th>\n",
       "      <th>clnt_id</th>\n",
       "    </tr>\n",
       "  </thead>\n",
       "  <tbody>\n",
       "    <tr>\n",
       "      <th>0</th>\n",
       "      <td>2022-01-01</td>\n",
       "      <td>4496.708670</td>\n",
       "    </tr>\n",
       "    <tr>\n",
       "      <th>1</th>\n",
       "      <td>2022-04-01</td>\n",
       "      <td>4417.655017</td>\n",
       "    </tr>\n",
       "    <tr>\n",
       "      <th>2</th>\n",
       "      <td>2022-07-01</td>\n",
       "      <td>4523.592399</td>\n",
       "    </tr>\n",
       "  </tbody>\n",
       "</table>\n",
       "</div>"
      ],
      "text/plain": [
       "      quarter      clnt_id\n",
       "0  2022-01-01  4496.708670\n",
       "1  2022-04-01  4417.655017\n",
       "2  2022-07-01  4523.592399"
      ]
     },
     "execution_count": 179,
     "metadata": {},
     "output_type": "execute_result"
    }
   ],
   "source": [
    "df_ppl = pd.read_csv(\"clean_data/pred_count_people.csv\")\n",
    "df_ppl.rename(columns={'Unnamed: 0': \"quarter\", \"value\":\"value\"}, inplace=True)\n",
    "df_ppl.head(3)"
   ]
  },
  {
   "cell_type": "code",
   "execution_count": 180,
   "id": "921c8098-4c5a-4f21-8332-80d79f122628",
   "metadata": {},
   "outputs": [
    {
     "data": {
      "text/html": [
       "<div>\n",
       "<style scoped>\n",
       "    .dataframe tbody tr th:only-of-type {\n",
       "        vertical-align: middle;\n",
       "    }\n",
       "\n",
       "    .dataframe tbody tr th {\n",
       "        vertical-align: top;\n",
       "    }\n",
       "\n",
       "    .dataframe thead th {\n",
       "        text-align: right;\n",
       "    }\n",
       "</style>\n",
       "<table border=\"1\" class=\"dataframe\">\n",
       "  <thead>\n",
       "    <tr style=\"text-align: right;\">\n",
       "      <th></th>\n",
       "      <th>quarter</th>\n",
       "      <th>employ</th>\n",
       "    </tr>\n",
       "  </thead>\n",
       "  <tbody>\n",
       "    <tr>\n",
       "      <th>0</th>\n",
       "      <td>2022-01-01</td>\n",
       "      <td>13778.757049</td>\n",
       "    </tr>\n",
       "    <tr>\n",
       "      <th>1</th>\n",
       "      <td>2022-04-01</td>\n",
       "      <td>13641.737420</td>\n",
       "    </tr>\n",
       "    <tr>\n",
       "      <th>2</th>\n",
       "      <td>2022-07-01</td>\n",
       "      <td>13687.231508</td>\n",
       "    </tr>\n",
       "  </tbody>\n",
       "</table>\n",
       "</div>"
      ],
      "text/plain": [
       "      quarter        employ\n",
       "0  2022-01-01  13778.757049\n",
       "1  2022-04-01  13641.737420\n",
       "2  2022-07-01  13687.231508"
      ]
     },
     "execution_count": 180,
     "metadata": {},
     "output_type": "execute_result"
    }
   ],
   "source": [
    "df_employ = pd.read_csv(\"clean_data/pred_unemploy.csv\")\n",
    "df_employ.rename(columns={'Unnamed: 0': \"quarter\", \"value\":\"employ\"}, inplace=True)\n",
    "df_employ.head(3)"
   ]
  },
  {
   "cell_type": "code",
   "execution_count": 181,
   "id": "0fba4426-b904-4a71-a63b-01c784c20a9b",
   "metadata": {},
   "outputs": [
    {
     "data": {
      "text/html": [
       "<div>\n",
       "<style scoped>\n",
       "    .dataframe tbody tr th:only-of-type {\n",
       "        vertical-align: middle;\n",
       "    }\n",
       "\n",
       "    .dataframe tbody tr th {\n",
       "        vertical-align: top;\n",
       "    }\n",
       "\n",
       "    .dataframe thead th {\n",
       "        text-align: right;\n",
       "    }\n",
       "</style>\n",
       "<table border=\"1\" class=\"dataframe\">\n",
       "  <thead>\n",
       "    <tr style=\"text-align: right;\">\n",
       "      <th></th>\n",
       "      <th>quarter</th>\n",
       "      <th>moex</th>\n",
       "      <th>rgb_price</th>\n",
       "      <th>clnt_id</th>\n",
       "      <th>employ</th>\n",
       "    </tr>\n",
       "  </thead>\n",
       "  <tbody>\n",
       "    <tr>\n",
       "      <th>0</th>\n",
       "      <td>2022-01-01</td>\n",
       "      <td>461.0</td>\n",
       "      <td>6.360632e+10</td>\n",
       "      <td>4496.708670</td>\n",
       "      <td>13778.757049</td>\n",
       "    </tr>\n",
       "    <tr>\n",
       "      <th>1</th>\n",
       "      <td>2022-04-01</td>\n",
       "      <td>461.0</td>\n",
       "      <td>8.804385e+10</td>\n",
       "      <td>4417.655017</td>\n",
       "      <td>13641.737420</td>\n",
       "    </tr>\n",
       "    <tr>\n",
       "      <th>2</th>\n",
       "      <td>2022-07-01</td>\n",
       "      <td>461.0</td>\n",
       "      <td>7.901886e+10</td>\n",
       "      <td>4523.592399</td>\n",
       "      <td>13687.231508</td>\n",
       "    </tr>\n",
       "    <tr>\n",
       "      <th>3</th>\n",
       "      <td>2022-10-01</td>\n",
       "      <td>461.0</td>\n",
       "      <td>6.926884e+10</td>\n",
       "      <td>4536.165980</td>\n",
       "      <td>13929.105980</td>\n",
       "    </tr>\n",
       "    <tr>\n",
       "      <th>4</th>\n",
       "      <td>2023-01-01</td>\n",
       "      <td>461.0</td>\n",
       "      <td>7.225215e+10</td>\n",
       "      <td>4559.398183</td>\n",
       "      <td>14181.101295</td>\n",
       "    </tr>\n",
       "  </tbody>\n",
       "</table>\n",
       "</div>"
      ],
      "text/plain": [
       "      quarter   moex     rgb_price      clnt_id        employ\n",
       "0  2022-01-01  461.0  6.360632e+10  4496.708670  13778.757049\n",
       "1  2022-04-01  461.0  8.804385e+10  4417.655017  13641.737420\n",
       "2  2022-07-01  461.0  7.901886e+10  4523.592399  13687.231508\n",
       "3  2022-10-01  461.0  6.926884e+10  4536.165980  13929.105980\n",
       "4  2023-01-01  461.0  7.225215e+10  4559.398183  14181.101295"
      ]
     },
     "execution_count": 181,
     "metadata": {},
     "output_type": "execute_result"
    }
   ],
   "source": [
    "pred_df = pd.merge(pd.merge(pd.merge(df_moex, df_bond, on='quarter'), df_ppl, on='quarter'), df_employ, on='quarter')\n",
    "pred_df.head()"
   ]
  },
  {
   "cell_type": "code",
   "execution_count": 182,
   "id": "ad74a853-fd0f-4e78-8abe-61664d8525b8",
   "metadata": {},
   "outputs": [
    {
     "data": {
      "text/html": [
       "<div>\n",
       "<style scoped>\n",
       "    .dataframe tbody tr th:only-of-type {\n",
       "        vertical-align: middle;\n",
       "    }\n",
       "\n",
       "    .dataframe tbody tr th {\n",
       "        vertical-align: top;\n",
       "    }\n",
       "\n",
       "    .dataframe thead th {\n",
       "        text-align: right;\n",
       "    }\n",
       "</style>\n",
       "<table border=\"1\" class=\"dataframe\">\n",
       "  <thead>\n",
       "    <tr style=\"text-align: right;\">\n",
       "      <th></th>\n",
       "      <th>moex</th>\n",
       "      <th>rgb_price</th>\n",
       "      <th>clnt_id</th>\n",
       "      <th>employ</th>\n",
       "      <th>year</th>\n",
       "      <th>month</th>\n",
       "      <th>day</th>\n",
       "    </tr>\n",
       "  </thead>\n",
       "  <tbody>\n",
       "    <tr>\n",
       "      <th>0</th>\n",
       "      <td>461.0</td>\n",
       "      <td>6.360632e+10</td>\n",
       "      <td>4496.708670</td>\n",
       "      <td>13778.757049</td>\n",
       "      <td>2022</td>\n",
       "      <td>1</td>\n",
       "      <td>1</td>\n",
       "    </tr>\n",
       "    <tr>\n",
       "      <th>1</th>\n",
       "      <td>461.0</td>\n",
       "      <td>8.804385e+10</td>\n",
       "      <td>4417.655017</td>\n",
       "      <td>13641.737420</td>\n",
       "      <td>2022</td>\n",
       "      <td>4</td>\n",
       "      <td>1</td>\n",
       "    </tr>\n",
       "    <tr>\n",
       "      <th>2</th>\n",
       "      <td>461.0</td>\n",
       "      <td>7.901886e+10</td>\n",
       "      <td>4523.592399</td>\n",
       "      <td>13687.231508</td>\n",
       "      <td>2022</td>\n",
       "      <td>7</td>\n",
       "      <td>1</td>\n",
       "    </tr>\n",
       "  </tbody>\n",
       "</table>\n",
       "</div>"
      ],
      "text/plain": [
       "    moex     rgb_price      clnt_id        employ  year  month  day\n",
       "0  461.0  6.360632e+10  4496.708670  13778.757049  2022      1    1\n",
       "1  461.0  8.804385e+10  4417.655017  13641.737420  2022      4    1\n",
       "2  461.0  7.901886e+10  4523.592399  13687.231508  2022      7    1"
      ]
     },
     "execution_count": 182,
     "metadata": {},
     "output_type": "execute_result"
    }
   ],
   "source": [
    "pred_df['year'] = pd.to_datetime(pred_df.quarter).dt.year\n",
    "pred_df['month'] = pd.to_datetime(pred_df.quarter).dt.month\n",
    "pred_df['day'] = pd.to_datetime(pred_df.quarter).dt.day\n",
    "pred_df.drop(columns=['quarter'], inplace=True)\n",
    "pred_df.head(3)"
   ]
  },
  {
   "cell_type": "code",
   "execution_count": 183,
   "id": "7ddc07a8-e1fe-48d8-875d-95bb3ed194d3",
   "metadata": {},
   "outputs": [],
   "source": [
    "with open('model/placeholder.pkl', 'rb') as f:\n",
    "    params = pickle.load(f)\n",
    "params[\"verbose\"] = -1"
   ]
  },
  {
   "cell_type": "code",
   "execution_count": 184,
   "id": "f93ab2eb-03ea-44c0-ae84-d02204eb59cd",
   "metadata": {},
   "outputs": [],
   "source": [
    "quarterly_data = pd.read_csv('clean_data/quarterly_data.csv', index_col=0)"
   ]
  },
  {
   "cell_type": "code",
   "execution_count": 185,
   "id": "96c4ec36-bd7e-4c4a-8d41-095a126a051b",
   "metadata": {},
   "outputs": [
    {
     "data": {
      "text/html": [
       "<div>\n",
       "<style scoped>\n",
       "    .dataframe tbody tr th:only-of-type {\n",
       "        vertical-align: middle;\n",
       "    }\n",
       "\n",
       "    .dataframe tbody tr th {\n",
       "        vertical-align: top;\n",
       "    }\n",
       "\n",
       "    .dataframe thead th {\n",
       "        text-align: right;\n",
       "    }\n",
       "</style>\n",
       "<table border=\"1\" class=\"dataframe\">\n",
       "  <thead>\n",
       "    <tr style=\"text-align: right;\">\n",
       "      <th></th>\n",
       "      <th>clnt_id</th>\n",
       "      <th>day</th>\n",
       "      <th>employ</th>\n",
       "      <th>moex</th>\n",
       "      <th>month</th>\n",
       "      <th>npo_sum</th>\n",
       "      <th>rgb_price</th>\n",
       "      <th>year</th>\n",
       "    </tr>\n",
       "  </thead>\n",
       "  <tbody>\n",
       "    <tr>\n",
       "      <th>3</th>\n",
       "      <td>42</td>\n",
       "      <td>1</td>\n",
       "      <td>5666.0</td>\n",
       "      <td>2.452452e+10</td>\n",
       "      <td>1</td>\n",
       "      <td>16968.64</td>\n",
       "      <td>11362.0</td>\n",
       "      <td>2005</td>\n",
       "    </tr>\n",
       "    <tr>\n",
       "      <th>15</th>\n",
       "      <td>40</td>\n",
       "      <td>1</td>\n",
       "      <td>5666.0</td>\n",
       "      <td>1.532838e+10</td>\n",
       "      <td>4</td>\n",
       "      <td>21955.21</td>\n",
       "      <td>11288.0</td>\n",
       "      <td>2005</td>\n",
       "    </tr>\n",
       "    <tr>\n",
       "      <th>27</th>\n",
       "      <td>950</td>\n",
       "      <td>1</td>\n",
       "      <td>5666.0</td>\n",
       "      <td>1.172042e+10</td>\n",
       "      <td>7</td>\n",
       "      <td>7624721.46</td>\n",
       "      <td>11283.0</td>\n",
       "      <td>2005</td>\n",
       "    </tr>\n",
       "  </tbody>\n",
       "</table>\n",
       "</div>"
      ],
      "text/plain": [
       "    clnt_id  day  employ          moex  month     npo_sum  rgb_price  year\n",
       "3        42    1  5666.0  2.452452e+10      1    16968.64    11362.0  2005\n",
       "15       40    1  5666.0  1.532838e+10      4    21955.21    11288.0  2005\n",
       "27      950    1  5666.0  1.172042e+10      7  7624721.46    11283.0  2005"
      ]
     },
     "execution_count": 185,
     "metadata": {},
     "output_type": "execute_result"
    }
   ],
   "source": [
    "dataframes_slctn_cluster = [None]*4\n",
    "# Select all columns except cluster and slctn_number by specific value of cluster AND slctn_number\n",
    "cluster_vals = range(4)\n",
    "slctn_number_vals = range(4)\n",
    "\n",
    "# Get the columns to keep\n",
    "columns_to_keep = quarterly_data.columns.difference(['cluster', 'slctn_nmbr', 'age'])\n",
    "\n",
    "for cluster_val in cluster_vals:\n",
    "    dataframes_slctn_cluster[cluster_val] = [None] * 4\n",
    "    for slctn_number_val in slctn_number_vals:\n",
    "        filtered_df = quarterly_data[(quarterly_data['cluster'] == cluster_val) & (quarterly_data['slctn_nmbr'] == slctn_number_val)]\n",
    "        res = filtered_df[columns_to_keep]\n",
    "        #res['prev_npo_sum'] = res['npo_sum'].shift(1,fill_value=res.iloc[0]['npo_sum'])\n",
    "        dataframes_slctn_cluster[cluster_val][slctn_number_val] = res\n",
    "\n",
    "dataframes_slctn_cluster[1][1].head(3)"
   ]
  },
  {
   "cell_type": "code",
   "execution_count": 186,
   "id": "a962d185-75ea-4268-a080-47ec8e25697d",
   "metadata": {},
   "outputs": [],
   "source": [
    "def train_test_split(df):\n",
    "    train_size = int(len(df) * 0.8)\n",
    "    train_data, test_data = df.iloc[:train_size, :], df.iloc[train_size:, :]\n",
    "    X_train = train_data.loc[:, df.columns != \"npo_sum\"]\n",
    "    y_train = train_data.loc[:, \"npo_sum\"]\n",
    "    X_test = test_data.loc[:, df.columns != \"npo_sum\"]\n",
    "    y_test = test_data.loc[:, \"npo_sum\"]\n",
    "    return X_train, y_train, X_test, y_test\n",
    "\n",
    "X_train, y_train, X_test, y_test = train_test_split(dataframes_slctn_cluster[3][3])"
   ]
  },
  {
   "cell_type": "code",
   "execution_count": 187,
   "id": "b492f3f7-3735-4c0d-8ef7-109da72519ca",
   "metadata": {
    "scrolled": true
   },
   "outputs": [
    {
     "data": {
      "text/plain": [
       "-0.8011411548052882"
      ]
     },
     "execution_count": 187,
     "metadata": {},
     "output_type": "execute_result"
    }
   ],
   "source": [
    "model = lgb.LGBMRegressor(**params, )\n",
    "model.fit(X_train, y_train)\n",
    "pred = model.predict(X_test)\n",
    "r2_score(y_test, pred)"
   ]
  },
  {
   "cell_type": "code",
   "execution_count": 194,
   "id": "8c67a0b1-e7fd-4906-8666-d777eb0cbb8f",
   "metadata": {},
   "outputs": [],
   "source": [
    "results = pd.DataFrame(index=pred_df.index, columns=pred_df.columns)"
   ]
  },
  {
   "cell_type": "code",
   "execution_count": 231,
   "id": "17552c9c-e81b-41b1-b51d-ccff9c15d83d",
   "metadata": {},
   "outputs": [
    {
     "name": "stdout",
     "output_type": "stream",
     "text": [
      "--------------\n",
      "Current Selection Number is 0 and Cluster Number is 0\n",
      "Index(['clnt_id', 'day', 'employ', 'moex', 'month', 'rgb_price', 'year'], dtype='object')\n",
      "R2 = -237.7037500107201\tMAE=350070.8423483384\n",
      "--------------\n",
      "Current Selection Number is 0 and Cluster Number is 1\n",
      "Index(['clnt_id', 'day', 'employ', 'moex', 'month', 'rgb_price', 'year'], dtype='object')\n",
      "R2 = -9.339510674872583\tMAE=634855.5179458753\n",
      "--------------\n",
      "Current Selection Number is 0 and Cluster Number is 2\n",
      "Index(['clnt_id', 'day', 'employ', 'moex', 'month', 'rgb_price', 'year'], dtype='object')\n",
      "R2 = -3.8023255609227125\tMAE=33799551.960328236\n",
      "--------------\n",
      "Current Selection Number is 0 and Cluster Number is 3\n",
      "Index(['clnt_id', 'day', 'employ', 'moex', 'month', 'rgb_price', 'year'], dtype='object')\n",
      "R2 = -0.4785500100384692\tMAE=137718.60288898676\n",
      "--------------\n",
      "Current Selection Number is 1 and Cluster Number is 0\n",
      "Index(['clnt_id', 'day', 'employ', 'moex', 'month', 'rgb_price', 'year'], dtype='object')\n",
      "R2 = -0.6630579402015515\tMAE=33136.41017387133\n",
      "--------------\n",
      "Current Selection Number is 1 and Cluster Number is 1\n",
      "Index(['clnt_id', 'day', 'employ', 'moex', 'month', 'rgb_price', 'year'], dtype='object')\n",
      "R2 = -11.475070066985113\tMAE=475630.7863758117\n",
      "--------------\n",
      "Current Selection Number is 1 and Cluster Number is 2\n",
      "Index(['clnt_id', 'day', 'employ', 'moex', 'month', 'rgb_price', 'year'], dtype='object')\n",
      "R2 = -0.5650782233899743\tMAE=1774174.0285677735\n",
      "--------------\n",
      "Current Selection Number is 1 and Cluster Number is 3\n",
      "Index(['clnt_id', 'day', 'employ', 'moex', 'month', 'rgb_price', 'year'], dtype='object')\n",
      "R2 = -1.4233350270743745\tMAE=8074.064041899732\n",
      "--------------\n",
      "Current Selection Number is 2 and Cluster Number is 0\n",
      "Index(['clnt_id', 'day', 'employ', 'moex', 'month', 'rgb_price', 'year'], dtype='object')\n",
      "R2 = -12.72733766312339\tMAE=176142.05145342954\n",
      "--------------\n",
      "Current Selection Number is 2 and Cluster Number is 1\n",
      "Index(['clnt_id', 'day', 'employ', 'moex', 'month', 'rgb_price', 'year'], dtype='object')\n",
      "R2 = -2.3160227577927865\tMAE=343994.6312118574\n",
      "--------------\n",
      "Current Selection Number is 2 and Cluster Number is 2\n",
      "Index(['clnt_id', 'day', 'employ', 'moex', 'month', 'rgb_price', 'year'], dtype='object')\n",
      "R2 = -0.540649820001442\tMAE=7099609.617503828\n",
      "--------------\n",
      "Current Selection Number is 2 and Cluster Number is 3\n",
      "Index(['clnt_id', 'day', 'employ', 'moex', 'month', 'rgb_price', 'year'], dtype='object')\n",
      "R2 = 0.2793985954618239\tMAE=980629.7593408853\n",
      "--------------\n",
      "Current Selection Number is 3 and Cluster Number is 0\n",
      "Index(['clnt_id', 'day', 'employ', 'moex', 'month', 'rgb_price', 'year'], dtype='object')\n",
      "R2 = -97.73441657980864\tMAE=3610153.0487999017\n",
      "--------------\n",
      "Current Selection Number is 3 and Cluster Number is 1\n",
      "Index(['clnt_id', 'day', 'employ', 'moex', 'month', 'rgb_price', 'year'], dtype='object')\n",
      "R2 = -2.1121606648865137\tMAE=6173681.164965642\n",
      "--------------\n",
      "Current Selection Number is 3 and Cluster Number is 2\n",
      "Index(['clnt_id', 'day', 'employ', 'moex', 'month', 'rgb_price', 'year'], dtype='object')\n",
      "R2 = -1.3819219180557556\tMAE=89618673.44240193\n",
      "--------------\n",
      "Current Selection Number is 3 and Cluster Number is 3\n",
      "Index(['clnt_id', 'day', 'employ', 'moex', 'month', 'rgb_price', 'year'], dtype='object')\n",
      "R2 = 0.6913370053265699\tMAE=680740.4549068246\n",
      "CPU times: user 271 ms, sys: 486 ms, total: 756 ms\n",
      "Wall time: 492 ms\n"
     ]
    }
   ],
   "source": [
    "%%time\n",
    "predictions_per_selection = [None]*4\n",
    "for i in slctn_number_vals:\n",
    "    predictions_per_selection[i] = [None]*4\n",
    "    for j in cluster_vals:\n",
    "        print(\"--------------\")\n",
    "        print(f\"Current Selection Number is {i} and Cluster Number is {j}\")\n",
    "        X_train, y_train, X_test, y_test = train_test_split(dataframes_slctn_cluster[i][j])\n",
    "        with open(f'model/model_parameters_{i}_{j}.pkl', 'rb') as f:\n",
    "            params = pickle.load(f)\n",
    "        params[\"verbose\"] = -1\n",
    "        model = lgb.LGBMRegressor(**params, )\n",
    "        print(X_train.columns)\n",
    "        model.fit(X_train, y_train)\n",
    "        pred = model.predict(X_test)\n",
    "        r2 = r2_score(y_test, pred)\n",
    "        mae = mean_absolute_error(y_test, pred)\n",
    "        print(f\"R2 = {r2}\\tMAE={mae}\")\n",
    "        real_pred = model.predict(pred_df)\n",
    "        predictions_per_selection[i][j] = real_pred.reshape(-1,1)\n",
    "    results[f\"prediction_S{i}\"] = np.sum(predictions_per_selection[i], axis=0)"
   ]
  },
  {
   "cell_type": "code",
   "execution_count": 232,
   "id": "718ea078-ec7b-4849-8fab-34273bee0399",
   "metadata": {},
   "outputs": [],
   "source": [
    "results = results.loc[:,[f'prediction_S{i}' for i in range(4)]]"
   ]
  },
  {
   "cell_type": "code",
   "execution_count": 233,
   "id": "f76cdce3-b41b-42cd-a619-a6b935a27cc1",
   "metadata": {},
   "outputs": [],
   "source": [
    "results['year'] = pred_df['year']\n",
    "results['month'] = pred_df['month']\n",
    "results['day'] = pred_df['day']"
   ]
  },
  {
   "cell_type": "code",
   "execution_count": 246,
   "id": "ce136677-929d-4858-98f9-2fb71e6a06a5",
   "metadata": {},
   "outputs": [
    {
     "data": {
      "text/html": [
       "<div>\n",
       "<style scoped>\n",
       "    .dataframe tbody tr th:only-of-type {\n",
       "        vertical-align: middle;\n",
       "    }\n",
       "\n",
       "    .dataframe tbody tr th {\n",
       "        vertical-align: top;\n",
       "    }\n",
       "\n",
       "    .dataframe thead th {\n",
       "        text-align: right;\n",
       "    }\n",
       "</style>\n",
       "<table border=\"1\" class=\"dataframe\">\n",
       "  <thead>\n",
       "    <tr style=\"text-align: right;\">\n",
       "      <th></th>\n",
       "      <th>prediction_S0</th>\n",
       "      <th>prediction_S1</th>\n",
       "      <th>prediction_S2</th>\n",
       "      <th>prediction_S3</th>\n",
       "      <th>year</th>\n",
       "      <th>month</th>\n",
       "      <th>day</th>\n",
       "      <th>quarter</th>\n",
       "    </tr>\n",
       "  </thead>\n",
       "  <tbody>\n",
       "    <tr>\n",
       "      <th>19</th>\n",
       "      <td>1.018705e+07</td>\n",
       "      <td>2.105919e+06</td>\n",
       "      <td>7.460035e+06</td>\n",
       "      <td>9.275085e+07</td>\n",
       "      <td>2026</td>\n",
       "      <td>10</td>\n",
       "      <td>1</td>\n",
       "      <td>2026-10-01</td>\n",
       "    </tr>\n",
       "    <tr>\n",
       "      <th>20</th>\n",
       "      <td>1.020031e+07</td>\n",
       "      <td>2.105919e+06</td>\n",
       "      <td>7.424083e+06</td>\n",
       "      <td>9.278179e+07</td>\n",
       "      <td>2027</td>\n",
       "      <td>1</td>\n",
       "      <td>1</td>\n",
       "      <td>2027-01-01</td>\n",
       "    </tr>\n",
       "    <tr>\n",
       "      <th>21</th>\n",
       "      <td>1.018705e+07</td>\n",
       "      <td>2.105919e+06</td>\n",
       "      <td>7.460035e+06</td>\n",
       "      <td>9.275085e+07</td>\n",
       "      <td>2027</td>\n",
       "      <td>4</td>\n",
       "      <td>1</td>\n",
       "      <td>2027-04-01</td>\n",
       "    </tr>\n",
       "    <tr>\n",
       "      <th>22</th>\n",
       "      <td>1.018705e+07</td>\n",
       "      <td>2.105919e+06</td>\n",
       "      <td>7.460035e+06</td>\n",
       "      <td>9.275085e+07</td>\n",
       "      <td>2027</td>\n",
       "      <td>7</td>\n",
       "      <td>1</td>\n",
       "      <td>2027-07-01</td>\n",
       "    </tr>\n",
       "    <tr>\n",
       "      <th>23</th>\n",
       "      <td>1.018705e+07</td>\n",
       "      <td>2.105919e+06</td>\n",
       "      <td>7.460035e+06</td>\n",
       "      <td>9.275085e+07</td>\n",
       "      <td>2027</td>\n",
       "      <td>10</td>\n",
       "      <td>1</td>\n",
       "      <td>2027-10-01</td>\n",
       "    </tr>\n",
       "  </tbody>\n",
       "</table>\n",
       "</div>"
      ],
      "text/plain": [
       "    prediction_S0  prediction_S1  prediction_S2  prediction_S3  year  month  \\\n",
       "19   1.018705e+07   2.105919e+06   7.460035e+06   9.275085e+07  2026     10   \n",
       "20   1.020031e+07   2.105919e+06   7.424083e+06   9.278179e+07  2027      1   \n",
       "21   1.018705e+07   2.105919e+06   7.460035e+06   9.275085e+07  2027      4   \n",
       "22   1.018705e+07   2.105919e+06   7.460035e+06   9.275085e+07  2027      7   \n",
       "23   1.018705e+07   2.105919e+06   7.460035e+06   9.275085e+07  2027     10   \n",
       "\n",
       "    day    quarter  \n",
       "19    1 2026-10-01  \n",
       "20    1 2027-01-01  \n",
       "21    1 2027-04-01  \n",
       "22    1 2027-07-01  \n",
       "23    1 2027-10-01  "
      ]
     },
     "execution_count": 246,
     "metadata": {},
     "output_type": "execute_result"
    }
   ],
   "source": [
    "import datetime\n",
    "# Create a new column 'date' by combining year, month and day columns\n",
    "results['quarter'] = results.apply(lambda x: datetime.datetime(int(x['year']), int(x['month']), int(x['day'])), axis=1)\n",
    "\n",
    "# Check the dataframe\n",
    "results.tail()"
   ]
  },
  {
   "cell_type": "code",
   "execution_count": 235,
   "id": "f6238f40-dfbd-403b-b185-5ecc2cd6ab81",
   "metadata": {},
   "outputs": [],
   "source": [
    "results.to_csv('front/predictions.csv')"
   ]
  },
  {
   "cell_type": "code",
   "execution_count": 236,
   "id": "e333863f-a62f-4302-aa94-475ead3c347a",
   "metadata": {},
   "outputs": [],
   "source": [
    "import plotly.express as px"
   ]
  },
  {
   "cell_type": "code",
   "execution_count": 245,
   "id": "aa5148e4-c138-410b-b0f1-c5be3cf2c143",
   "metadata": {},
   "outputs": [
    {
     "name": "stderr",
     "output_type": "stream",
     "text": [
      "/Users/snopoff/miniconda3/envs/nspf/lib/python3.11/site-packages/_plotly_utils/basevalidators.py:105: FutureWarning:\n",
      "\n",
      "The behavior of DatetimeProperties.to_pydatetime is deprecated, in a future version this will return a Series containing python datetime objects instead of an ndarray. To retain the old behavior, call `np.array` on the result\n",
      "\n"
     ]
    },
    {
     "data": {
      "application/vnd.plotly.v1+json": {
       "config": {
        "plotlyServerURL": "https://plot.ly"
       },
       "data": [
        {
         "hovertemplate": "quarter=%{x}<br>prediction_S3=%{y}<extra></extra>",
         "legendgroup": "",
         "line": {
          "color": "#636efa",
          "dash": "solid"
         },
         "marker": {
          "symbol": "circle"
         },
         "mode": "lines",
         "name": "",
         "orientation": "v",
         "showlegend": false,
         "type": "scatter",
         "x": [
          "2022-01-01T00:00:00",
          "2022-04-01T00:00:00",
          "2022-07-01T00:00:00",
          "2022-10-01T00:00:00",
          "2023-01-01T00:00:00",
          "2023-04-01T00:00:00",
          "2023-07-01T00:00:00",
          "2023-10-01T00:00:00",
          "2024-01-01T00:00:00",
          "2024-04-01T00:00:00",
          "2024-07-01T00:00:00",
          "2024-10-01T00:00:00",
          "2025-01-01T00:00:00",
          "2025-04-01T00:00:00",
          "2025-07-01T00:00:00",
          "2025-10-01T00:00:00",
          "2026-01-01T00:00:00",
          "2026-04-01T00:00:00",
          "2026-07-01T00:00:00",
          "2026-10-01T00:00:00",
          "2027-01-01T00:00:00",
          "2027-04-01T00:00:00",
          "2027-07-01T00:00:00",
          "2027-10-01T00:00:00"
         ],
         "xaxis": "x",
         "y": [
          92750849.79653749,
          92750849.79653749,
          92750849.79653749,
          92750849.79653749,
          92750849.79653749,
          92781793.93209377,
          92750849.79653749,
          92781793.93209377,
          92750849.79653749,
          92781793.93209377,
          92781793.93209377,
          92781793.93209377,
          92781793.93209377,
          92781793.93209377,
          92781793.93209377,
          92781793.93209377,
          92781793.93209377,
          92781793.93209377,
          92781793.93209377,
          92750849.79653749,
          92781793.93209377,
          92750849.79653749,
          92750849.79653749,
          92750849.79653749
         ],
         "yaxis": "y"
        }
       ],
       "layout": {
        "autosize": true,
        "legend": {
         "tracegroupgap": 0
        },
        "margin": {
         "t": 60
        },
        "template": {
         "data": {
          "bar": [
           {
            "error_x": {
             "color": "#2a3f5f"
            },
            "error_y": {
             "color": "#2a3f5f"
            },
            "marker": {
             "line": {
              "color": "#E5ECF6",
              "width": 0.5
             },
             "pattern": {
              "fillmode": "overlay",
              "size": 10,
              "solidity": 0.2
             }
            },
            "type": "bar"
           }
          ],
          "barpolar": [
           {
            "marker": {
             "line": {
              "color": "#E5ECF6",
              "width": 0.5
             },
             "pattern": {
              "fillmode": "overlay",
              "size": 10,
              "solidity": 0.2
             }
            },
            "type": "barpolar"
           }
          ],
          "carpet": [
           {
            "aaxis": {
             "endlinecolor": "#2a3f5f",
             "gridcolor": "white",
             "linecolor": "white",
             "minorgridcolor": "white",
             "startlinecolor": "#2a3f5f"
            },
            "baxis": {
             "endlinecolor": "#2a3f5f",
             "gridcolor": "white",
             "linecolor": "white",
             "minorgridcolor": "white",
             "startlinecolor": "#2a3f5f"
            },
            "type": "carpet"
           }
          ],
          "choropleth": [
           {
            "colorbar": {
             "outlinewidth": 0,
             "ticks": ""
            },
            "type": "choropleth"
           }
          ],
          "contour": [
           {
            "colorbar": {
             "outlinewidth": 0,
             "ticks": ""
            },
            "colorscale": [
             [
              0,
              "#0d0887"
             ],
             [
              0.1111111111111111,
              "#46039f"
             ],
             [
              0.2222222222222222,
              "#7201a8"
             ],
             [
              0.3333333333333333,
              "#9c179e"
             ],
             [
              0.4444444444444444,
              "#bd3786"
             ],
             [
              0.5555555555555556,
              "#d8576b"
             ],
             [
              0.6666666666666666,
              "#ed7953"
             ],
             [
              0.7777777777777778,
              "#fb9f3a"
             ],
             [
              0.8888888888888888,
              "#fdca26"
             ],
             [
              1,
              "#f0f921"
             ]
            ],
            "type": "contour"
           }
          ],
          "contourcarpet": [
           {
            "colorbar": {
             "outlinewidth": 0,
             "ticks": ""
            },
            "type": "contourcarpet"
           }
          ],
          "heatmap": [
           {
            "colorbar": {
             "outlinewidth": 0,
             "ticks": ""
            },
            "colorscale": [
             [
              0,
              "#0d0887"
             ],
             [
              0.1111111111111111,
              "#46039f"
             ],
             [
              0.2222222222222222,
              "#7201a8"
             ],
             [
              0.3333333333333333,
              "#9c179e"
             ],
             [
              0.4444444444444444,
              "#bd3786"
             ],
             [
              0.5555555555555556,
              "#d8576b"
             ],
             [
              0.6666666666666666,
              "#ed7953"
             ],
             [
              0.7777777777777778,
              "#fb9f3a"
             ],
             [
              0.8888888888888888,
              "#fdca26"
             ],
             [
              1,
              "#f0f921"
             ]
            ],
            "type": "heatmap"
           }
          ],
          "heatmapgl": [
           {
            "colorbar": {
             "outlinewidth": 0,
             "ticks": ""
            },
            "colorscale": [
             [
              0,
              "#0d0887"
             ],
             [
              0.1111111111111111,
              "#46039f"
             ],
             [
              0.2222222222222222,
              "#7201a8"
             ],
             [
              0.3333333333333333,
              "#9c179e"
             ],
             [
              0.4444444444444444,
              "#bd3786"
             ],
             [
              0.5555555555555556,
              "#d8576b"
             ],
             [
              0.6666666666666666,
              "#ed7953"
             ],
             [
              0.7777777777777778,
              "#fb9f3a"
             ],
             [
              0.8888888888888888,
              "#fdca26"
             ],
             [
              1,
              "#f0f921"
             ]
            ],
            "type": "heatmapgl"
           }
          ],
          "histogram": [
           {
            "marker": {
             "pattern": {
              "fillmode": "overlay",
              "size": 10,
              "solidity": 0.2
             }
            },
            "type": "histogram"
           }
          ],
          "histogram2d": [
           {
            "colorbar": {
             "outlinewidth": 0,
             "ticks": ""
            },
            "colorscale": [
             [
              0,
              "#0d0887"
             ],
             [
              0.1111111111111111,
              "#46039f"
             ],
             [
              0.2222222222222222,
              "#7201a8"
             ],
             [
              0.3333333333333333,
              "#9c179e"
             ],
             [
              0.4444444444444444,
              "#bd3786"
             ],
             [
              0.5555555555555556,
              "#d8576b"
             ],
             [
              0.6666666666666666,
              "#ed7953"
             ],
             [
              0.7777777777777778,
              "#fb9f3a"
             ],
             [
              0.8888888888888888,
              "#fdca26"
             ],
             [
              1,
              "#f0f921"
             ]
            ],
            "type": "histogram2d"
           }
          ],
          "histogram2dcontour": [
           {
            "colorbar": {
             "outlinewidth": 0,
             "ticks": ""
            },
            "colorscale": [
             [
              0,
              "#0d0887"
             ],
             [
              0.1111111111111111,
              "#46039f"
             ],
             [
              0.2222222222222222,
              "#7201a8"
             ],
             [
              0.3333333333333333,
              "#9c179e"
             ],
             [
              0.4444444444444444,
              "#bd3786"
             ],
             [
              0.5555555555555556,
              "#d8576b"
             ],
             [
              0.6666666666666666,
              "#ed7953"
             ],
             [
              0.7777777777777778,
              "#fb9f3a"
             ],
             [
              0.8888888888888888,
              "#fdca26"
             ],
             [
              1,
              "#f0f921"
             ]
            ],
            "type": "histogram2dcontour"
           }
          ],
          "mesh3d": [
           {
            "colorbar": {
             "outlinewidth": 0,
             "ticks": ""
            },
            "type": "mesh3d"
           }
          ],
          "parcoords": [
           {
            "line": {
             "colorbar": {
              "outlinewidth": 0,
              "ticks": ""
             }
            },
            "type": "parcoords"
           }
          ],
          "pie": [
           {
            "automargin": true,
            "type": "pie"
           }
          ],
          "scatter": [
           {
            "fillpattern": {
             "fillmode": "overlay",
             "size": 10,
             "solidity": 0.2
            },
            "type": "scatter"
           }
          ],
          "scatter3d": [
           {
            "line": {
             "colorbar": {
              "outlinewidth": 0,
              "ticks": ""
             }
            },
            "marker": {
             "colorbar": {
              "outlinewidth": 0,
              "ticks": ""
             }
            },
            "type": "scatter3d"
           }
          ],
          "scattercarpet": [
           {
            "marker": {
             "colorbar": {
              "outlinewidth": 0,
              "ticks": ""
             }
            },
            "type": "scattercarpet"
           }
          ],
          "scattergeo": [
           {
            "marker": {
             "colorbar": {
              "outlinewidth": 0,
              "ticks": ""
             }
            },
            "type": "scattergeo"
           }
          ],
          "scattergl": [
           {
            "marker": {
             "colorbar": {
              "outlinewidth": 0,
              "ticks": ""
             }
            },
            "type": "scattergl"
           }
          ],
          "scattermapbox": [
           {
            "marker": {
             "colorbar": {
              "outlinewidth": 0,
              "ticks": ""
             }
            },
            "type": "scattermapbox"
           }
          ],
          "scatterpolar": [
           {
            "marker": {
             "colorbar": {
              "outlinewidth": 0,
              "ticks": ""
             }
            },
            "type": "scatterpolar"
           }
          ],
          "scatterpolargl": [
           {
            "marker": {
             "colorbar": {
              "outlinewidth": 0,
              "ticks": ""
             }
            },
            "type": "scatterpolargl"
           }
          ],
          "scatterternary": [
           {
            "marker": {
             "colorbar": {
              "outlinewidth": 0,
              "ticks": ""
             }
            },
            "type": "scatterternary"
           }
          ],
          "surface": [
           {
            "colorbar": {
             "outlinewidth": 0,
             "ticks": ""
            },
            "colorscale": [
             [
              0,
              "#0d0887"
             ],
             [
              0.1111111111111111,
              "#46039f"
             ],
             [
              0.2222222222222222,
              "#7201a8"
             ],
             [
              0.3333333333333333,
              "#9c179e"
             ],
             [
              0.4444444444444444,
              "#bd3786"
             ],
             [
              0.5555555555555556,
              "#d8576b"
             ],
             [
              0.6666666666666666,
              "#ed7953"
             ],
             [
              0.7777777777777778,
              "#fb9f3a"
             ],
             [
              0.8888888888888888,
              "#fdca26"
             ],
             [
              1,
              "#f0f921"
             ]
            ],
            "type": "surface"
           }
          ],
          "table": [
           {
            "cells": {
             "fill": {
              "color": "#EBF0F8"
             },
             "line": {
              "color": "white"
             }
            },
            "header": {
             "fill": {
              "color": "#C8D4E3"
             },
             "line": {
              "color": "white"
             }
            },
            "type": "table"
           }
          ]
         },
         "layout": {
          "annotationdefaults": {
           "arrowcolor": "#2a3f5f",
           "arrowhead": 0,
           "arrowwidth": 1
          },
          "autotypenumbers": "strict",
          "coloraxis": {
           "colorbar": {
            "outlinewidth": 0,
            "ticks": ""
           }
          },
          "colorscale": {
           "diverging": [
            [
             0,
             "#8e0152"
            ],
            [
             0.1,
             "#c51b7d"
            ],
            [
             0.2,
             "#de77ae"
            ],
            [
             0.3,
             "#f1b6da"
            ],
            [
             0.4,
             "#fde0ef"
            ],
            [
             0.5,
             "#f7f7f7"
            ],
            [
             0.6,
             "#e6f5d0"
            ],
            [
             0.7,
             "#b8e186"
            ],
            [
             0.8,
             "#7fbc41"
            ],
            [
             0.9,
             "#4d9221"
            ],
            [
             1,
             "#276419"
            ]
           ],
           "sequential": [
            [
             0,
             "#0d0887"
            ],
            [
             0.1111111111111111,
             "#46039f"
            ],
            [
             0.2222222222222222,
             "#7201a8"
            ],
            [
             0.3333333333333333,
             "#9c179e"
            ],
            [
             0.4444444444444444,
             "#bd3786"
            ],
            [
             0.5555555555555556,
             "#d8576b"
            ],
            [
             0.6666666666666666,
             "#ed7953"
            ],
            [
             0.7777777777777778,
             "#fb9f3a"
            ],
            [
             0.8888888888888888,
             "#fdca26"
            ],
            [
             1,
             "#f0f921"
            ]
           ],
           "sequentialminus": [
            [
             0,
             "#0d0887"
            ],
            [
             0.1111111111111111,
             "#46039f"
            ],
            [
             0.2222222222222222,
             "#7201a8"
            ],
            [
             0.3333333333333333,
             "#9c179e"
            ],
            [
             0.4444444444444444,
             "#bd3786"
            ],
            [
             0.5555555555555556,
             "#d8576b"
            ],
            [
             0.6666666666666666,
             "#ed7953"
            ],
            [
             0.7777777777777778,
             "#fb9f3a"
            ],
            [
             0.8888888888888888,
             "#fdca26"
            ],
            [
             1,
             "#f0f921"
            ]
           ]
          },
          "colorway": [
           "#636efa",
           "#EF553B",
           "#00cc96",
           "#ab63fa",
           "#FFA15A",
           "#19d3f3",
           "#FF6692",
           "#B6E880",
           "#FF97FF",
           "#FECB52"
          ],
          "font": {
           "color": "#2a3f5f"
          },
          "geo": {
           "bgcolor": "white",
           "lakecolor": "white",
           "landcolor": "#E5ECF6",
           "showlakes": true,
           "showland": true,
           "subunitcolor": "white"
          },
          "hoverlabel": {
           "align": "left"
          },
          "hovermode": "closest",
          "mapbox": {
           "style": "light"
          },
          "paper_bgcolor": "white",
          "plot_bgcolor": "#E5ECF6",
          "polar": {
           "angularaxis": {
            "gridcolor": "white",
            "linecolor": "white",
            "ticks": ""
           },
           "bgcolor": "#E5ECF6",
           "radialaxis": {
            "gridcolor": "white",
            "linecolor": "white",
            "ticks": ""
           }
          },
          "scene": {
           "xaxis": {
            "backgroundcolor": "#E5ECF6",
            "gridcolor": "white",
            "gridwidth": 2,
            "linecolor": "white",
            "showbackground": true,
            "ticks": "",
            "zerolinecolor": "white"
           },
           "yaxis": {
            "backgroundcolor": "#E5ECF6",
            "gridcolor": "white",
            "gridwidth": 2,
            "linecolor": "white",
            "showbackground": true,
            "ticks": "",
            "zerolinecolor": "white"
           },
           "zaxis": {
            "backgroundcolor": "#E5ECF6",
            "gridcolor": "white",
            "gridwidth": 2,
            "linecolor": "white",
            "showbackground": true,
            "ticks": "",
            "zerolinecolor": "white"
           }
          },
          "shapedefaults": {
           "line": {
            "color": "#2a3f5f"
           }
          },
          "ternary": {
           "aaxis": {
            "gridcolor": "white",
            "linecolor": "white",
            "ticks": ""
           },
           "baxis": {
            "gridcolor": "white",
            "linecolor": "white",
            "ticks": ""
           },
           "bgcolor": "#E5ECF6",
           "caxis": {
            "gridcolor": "white",
            "linecolor": "white",
            "ticks": ""
           }
          },
          "title": {
           "x": 0.05
          },
          "xaxis": {
           "automargin": true,
           "gridcolor": "white",
           "linecolor": "white",
           "ticks": "",
           "title": {
            "standoff": 15
           },
           "zerolinecolor": "white",
           "zerolinewidth": 2
          },
          "yaxis": {
           "automargin": true,
           "gridcolor": "white",
           "linecolor": "white",
           "ticks": "",
           "title": {
            "standoff": 15
           },
           "zerolinecolor": "white",
           "zerolinewidth": 2
          }
         }
        },
        "xaxis": {
         "anchor": "y",
         "autorange": true,
         "domain": [
          0,
          1
         ],
         "range": [
          "2022-01-01",
          "2027-10-01"
         ],
         "title": {
          "text": "quarter"
         },
         "type": "date"
        },
        "yaxis": {
         "anchor": "x",
         "autorange": true,
         "domain": [
          0,
          1
         ],
         "range": [
          92749130.67789547,
          92783513.05073579
         ],
         "title": {
          "text": "prediction_S3"
         },
         "type": "linear"
        }
       }
      },
      "image/png": "[encoded data removed]",
      "text/html": [
       "<div>                            <div id=\"8a03dc4c-7103-4a55-8cb5-2e55883c8d0c\" class=\"plotly-graph-div\" style=\"height:525px; width:100%;\"></div>            <script type=\"text/javascript\">                require([\"plotly\"], function(Plotly) {                    window.PLOTLYENV=window.PLOTLYENV || {};                                    if (document.getElementById(\"8a03dc4c-7103-4a55-8cb5-2e55883c8d0c\")) {                    Plotly.newPlot(                        \"8a03dc4c-7103-4a55-8cb5-2e55883c8d0c\",                        [{\"hovertemplate\":\"quarter=%{x}\\u003cbr\\u003eprediction_S3=%{y}\\u003cextra\\u003e\\u003c\\u002fextra\\u003e\",\"legendgroup\":\"\",\"line\":{\"color\":\"#636efa\",\"dash\":\"solid\"},\"marker\":{\"symbol\":\"circle\"},\"mode\":\"lines\",\"name\":\"\",\"orientation\":\"v\",\"showlegend\":false,\"x\":[\"2022-01-01T00:00:00\",\"2022-04-01T00:00:00\",\"2022-07-01T00:00:00\",\"2022-10-01T00:00:00\",\"2023-01-01T00:00:00\",\"2023-04-01T00:00:00\",\"2023-07-01T00:00:00\",\"2023-10-01T00:00:00\",\"2024-01-01T00:00:00\",\"2024-04-01T00:00:00\",\"2024-07-01T00:00:00\",\"2024-10-01T00:00:00\",\"2025-01-01T00:00:00\",\"2025-04-01T00:00:00\",\"2025-07-01T00:00:00\",\"2025-10-01T00:00:00\",\"2026-01-01T00:00:00\",\"2026-04-01T00:00:00\",\"2026-07-01T00:00:00\",\"2026-10-01T00:00:00\",\"2027-01-01T00:00:00\",\"2027-04-01T00:00:00\",\"2027-07-01T00:00:00\",\"2027-10-01T00:00:00\"],\"xaxis\":\"x\",\"y\":[92750849.79653749,92750849.79653749,92750849.79653749,92750849.79653749,92750849.79653749,92781793.93209377,92750849.79653749,92781793.93209377,92750849.79653749,92781793.93209377,92781793.93209377,92781793.93209377,92781793.93209377,92781793.93209377,92781793.93209377,92781793.93209377,92781793.93209377,92781793.93209377,92781793.93209377,92750849.79653749,92781793.93209377,92750849.79653749,92750849.79653749,92750849.79653749],\"yaxis\":\"y\",\"type\":\"scatter\"}],                        {\"template\":{\"data\":{\"histogram2dcontour\":[{\"type\":\"histogram2dcontour\",\"colorbar\":{\"outlinewidth\":0,\"ticks\":\"\"},\"colorscale\":[[0.0,\"#0d0887\"],[0.1111111111111111,\"#46039f\"],[0.2222222222222222,\"#7201a8\"],[0.3333333333333333,\"#9c179e\"],[0.4444444444444444,\"#bd3786\"],[0.5555555555555556,\"#d8576b\"],[0.6666666666666666,\"#ed7953\"],[0.7777777777777778,\"#fb9f3a\"],[0.8888888888888888,\"#fdca26\"],[1.0,\"#f0f921\"]]}],\"choropleth\":[{\"type\":\"choropleth\",\"colorbar\":{\"outlinewidth\":0,\"ticks\":\"\"}}],\"histogram2d\":[{\"type\":\"histogram2d\",\"colorbar\":{\"outlinewidth\":0,\"ticks\":\"\"},\"colorscale\":[[0.0,\"#0d0887\"],[0.1111111111111111,\"#46039f\"],[0.2222222222222222,\"#7201a8\"],[0.3333333333333333,\"#9c179e\"],[0.4444444444444444,\"#bd3786\"],[0.5555555555555556,\"#d8576b\"],[0.6666666666666666,\"#ed7953\"],[0.7777777777777778,\"#fb9f3a\"],[0.8888888888888888,\"#fdca26\"],[1.0,\"#f0f921\"]]}],\"heatmap\":[{\"type\":\"heatmap\",\"colorbar\":{\"outlinewidth\":0,\"ticks\":\"\"},\"colorscale\":[[0.0,\"#0d0887\"],[0.1111111111111111,\"#46039f\"],[0.2222222222222222,\"#7201a8\"],[0.3333333333333333,\"#9c179e\"],[0.4444444444444444,\"#bd3786\"],[0.5555555555555556,\"#d8576b\"],[0.6666666666666666,\"#ed7953\"],[0.7777777777777778,\"#fb9f3a\"],[0.8888888888888888,\"#fdca26\"],[1.0,\"#f0f921\"]]}],\"heatmapgl\":[{\"type\":\"heatmapgl\",\"colorbar\":{\"outlinewidth\":0,\"ticks\":\"\"},\"colorscale\":[[0.0,\"#0d0887\"],[0.1111111111111111,\"#46039f\"],[0.2222222222222222,\"#7201a8\"],[0.3333333333333333,\"#9c179e\"],[0.4444444444444444,\"#bd3786\"],[0.5555555555555556,\"#d8576b\"],[0.6666666666666666,\"#ed7953\"],[0.7777777777777778,\"#fb9f3a\"],[0.8888888888888888,\"#fdca26\"],[1.0,\"#f0f921\"]]}],\"contourcarpet\":[{\"type\":\"contourcarpet\",\"colorbar\":{\"outlinewidth\":0,\"ticks\":\"\"}}],\"contour\":[{\"type\":\"contour\",\"colorbar\":{\"outlinewidth\":0,\"ticks\":\"\"},\"colorscale\":[[0.0,\"#0d0887\"],[0.1111111111111111,\"#46039f\"],[0.2222222222222222,\"#7201a8\"],[0.3333333333333333,\"#9c179e\"],[0.4444444444444444,\"#bd3786\"],[0.5555555555555556,\"#d8576b\"],[0.6666666666666666,\"#ed7953\"],[0.7777777777777778,\"#fb9f3a\"],[0.8888888888888888,\"#fdca26\"],[1.0,\"#f0f921\"]]}],\"surface\":[{\"type\":\"surface\",\"colorbar\":{\"outlinewidth\":0,\"ticks\":\"\"},\"colorscale\":[[0.0,\"#0d0887\"],[0.1111111111111111,\"#46039f\"],[0.2222222222222222,\"#7201a8\"],[0.3333333333333333,\"#9c179e\"],[0.4444444444444444,\"#bd3786\"],[0.5555555555555556,\"#d8576b\"],[0.6666666666666666,\"#ed7953\"],[0.7777777777777778,\"#fb9f3a\"],[0.8888888888888888,\"#fdca26\"],[1.0,\"#f0f921\"]]}],\"mesh3d\":[{\"type\":\"mesh3d\",\"colorbar\":{\"outlinewidth\":0,\"ticks\":\"\"}}],\"scatter\":[{\"fillpattern\":{\"fillmode\":\"overlay\",\"size\":10,\"solidity\":0.2},\"type\":\"scatter\"}],\"parcoords\":[{\"type\":\"parcoords\",\"line\":{\"colorbar\":{\"outlinewidth\":0,\"ticks\":\"\"}}}],\"scatterpolargl\":[{\"type\":\"scatterpolargl\",\"marker\":{\"colorbar\":{\"outlinewidth\":0,\"ticks\":\"\"}}}],\"bar\":[{\"error_x\":{\"color\":\"#2a3f5f\"},\"error_y\":{\"color\":\"#2a3f5f\"},\"marker\":{\"line\":{\"color\":\"#E5ECF6\",\"width\":0.5},\"pattern\":{\"fillmode\":\"overlay\",\"size\":10,\"solidity\":0.2}},\"type\":\"bar\"}],\"scattergeo\":[{\"type\":\"scattergeo\",\"marker\":{\"colorbar\":{\"outlinewidth\":0,\"ticks\":\"\"}}}],\"scatterpolar\":[{\"type\":\"scatterpolar\",\"marker\":{\"colorbar\":{\"outlinewidth\":0,\"ticks\":\"\"}}}],\"histogram\":[{\"marker\":{\"pattern\":{\"fillmode\":\"overlay\",\"size\":10,\"solidity\":0.2}},\"type\":\"histogram\"}],\"scattergl\":[{\"type\":\"scattergl\",\"marker\":{\"colorbar\":{\"outlinewidth\":0,\"ticks\":\"\"}}}],\"scatter3d\":[{\"type\":\"scatter3d\",\"line\":{\"colorbar\":{\"outlinewidth\":0,\"ticks\":\"\"}},\"marker\":{\"colorbar\":{\"outlinewidth\":0,\"ticks\":\"\"}}}],\"scattermapbox\":[{\"type\":\"scattermapbox\",\"marker\":{\"colorbar\":{\"outlinewidth\":0,\"ticks\":\"\"}}}],\"scatterternary\":[{\"type\":\"scatterternary\",\"marker\":{\"colorbar\":{\"outlinewidth\":0,\"ticks\":\"\"}}}],\"scattercarpet\":[{\"type\":\"scattercarpet\",\"marker\":{\"colorbar\":{\"outlinewidth\":0,\"ticks\":\"\"}}}],\"carpet\":[{\"aaxis\":{\"endlinecolor\":\"#2a3f5f\",\"gridcolor\":\"white\",\"linecolor\":\"white\",\"minorgridcolor\":\"white\",\"startlinecolor\":\"#2a3f5f\"},\"baxis\":{\"endlinecolor\":\"#2a3f5f\",\"gridcolor\":\"white\",\"linecolor\":\"white\",\"minorgridcolor\":\"white\",\"startlinecolor\":\"#2a3f5f\"},\"type\":\"carpet\"}],\"table\":[{\"cells\":{\"fill\":{\"color\":\"#EBF0F8\"},\"line\":{\"color\":\"white\"}},\"header\":{\"fill\":{\"color\":\"#C8D4E3\"},\"line\":{\"color\":\"white\"}},\"type\":\"table\"}],\"barpolar\":[{\"marker\":{\"line\":{\"color\":\"#E5ECF6\",\"width\":0.5},\"pattern\":{\"fillmode\":\"overlay\",\"size\":10,\"solidity\":0.2}},\"type\":\"barpolar\"}],\"pie\":[{\"automargin\":true,\"type\":\"pie\"}]},\"layout\":{\"autotypenumbers\":\"strict\",\"colorway\":[\"#636efa\",\"#EF553B\",\"#00cc96\",\"#ab63fa\",\"#FFA15A\",\"#19d3f3\",\"#FF6692\",\"#B6E880\",\"#FF97FF\",\"#FECB52\"],\"font\":{\"color\":\"#2a3f5f\"},\"hovermode\":\"closest\",\"hoverlabel\":{\"align\":\"left\"},\"paper_bgcolor\":\"white\",\"plot_bgcolor\":\"#E5ECF6\",\"polar\":{\"bgcolor\":\"#E5ECF6\",\"angularaxis\":{\"gridcolor\":\"white\",\"linecolor\":\"white\",\"ticks\":\"\"},\"radialaxis\":{\"gridcolor\":\"white\",\"linecolor\":\"white\",\"ticks\":\"\"}},\"ternary\":{\"bgcolor\":\"#E5ECF6\",\"aaxis\":{\"gridcolor\":\"white\",\"linecolor\":\"white\",\"ticks\":\"\"},\"baxis\":{\"gridcolor\":\"white\",\"linecolor\":\"white\",\"ticks\":\"\"},\"caxis\":{\"gridcolor\":\"white\",\"linecolor\":\"white\",\"ticks\":\"\"}},\"coloraxis\":{\"colorbar\":{\"outlinewidth\":0,\"ticks\":\"\"}},\"colorscale\":{\"sequential\":[[0.0,\"#0d0887\"],[0.1111111111111111,\"#46039f\"],[0.2222222222222222,\"#7201a8\"],[0.3333333333333333,\"#9c179e\"],[0.4444444444444444,\"#bd3786\"],[0.5555555555555556,\"#d8576b\"],[0.6666666666666666,\"#ed7953\"],[0.7777777777777778,\"#fb9f3a\"],[0.8888888888888888,\"#fdca26\"],[1.0,\"#f0f921\"]],\"sequentialminus\":[[0.0,\"#0d0887\"],[0.1111111111111111,\"#46039f\"],[0.2222222222222222,\"#7201a8\"],[0.3333333333333333,\"#9c179e\"],[0.4444444444444444,\"#bd3786\"],[0.5555555555555556,\"#d8576b\"],[0.6666666666666666,\"#ed7953\"],[0.7777777777777778,\"#fb9f3a\"],[0.8888888888888888,\"#fdca26\"],[1.0,\"#f0f921\"]],\"diverging\":[[0,\"#8e0152\"],[0.1,\"#c51b7d\"],[0.2,\"#de77ae\"],[0.3,\"#f1b6da\"],[0.4,\"#fde0ef\"],[0.5,\"#f7f7f7\"],[0.6,\"#e6f5d0\"],[0.7,\"#b8e186\"],[0.8,\"#7fbc41\"],[0.9,\"#4d9221\"],[1,\"#276419\"]]},\"xaxis\":{\"gridcolor\":\"white\",\"linecolor\":\"white\",\"ticks\":\"\",\"title\":{\"standoff\":15},\"zerolinecolor\":\"white\",\"automargin\":true,\"zerolinewidth\":2},\"yaxis\":{\"gridcolor\":\"white\",\"linecolor\":\"white\",\"ticks\":\"\",\"title\":{\"standoff\":15},\"zerolinecolor\":\"white\",\"automargin\":true,\"zerolinewidth\":2},\"scene\":{\"xaxis\":{\"backgroundcolor\":\"#E5ECF6\",\"gridcolor\":\"white\",\"linecolor\":\"white\",\"showbackground\":true,\"ticks\":\"\",\"zerolinecolor\":\"white\",\"gridwidth\":2},\"yaxis\":{\"backgroundcolor\":\"#E5ECF6\",\"gridcolor\":\"white\",\"linecolor\":\"white\",\"showbackground\":true,\"ticks\":\"\",\"zerolinecolor\":\"white\",\"gridwidth\":2},\"zaxis\":{\"backgroundcolor\":\"#E5ECF6\",\"gridcolor\":\"white\",\"linecolor\":\"white\",\"showbackground\":true,\"ticks\":\"\",\"zerolinecolor\":\"white\",\"gridwidth\":2}},\"shapedefaults\":{\"line\":{\"color\":\"#2a3f5f\"}},\"annotationdefaults\":{\"arrowcolor\":\"#2a3f5f\",\"arrowhead\":0,\"arrowwidth\":1},\"geo\":{\"bgcolor\":\"white\",\"landcolor\":\"#E5ECF6\",\"subunitcolor\":\"white\",\"showland\":true,\"showlakes\":true,\"lakecolor\":\"white\"},\"title\":{\"x\":0.05},\"mapbox\":{\"style\":\"light\"}}},\"xaxis\":{\"anchor\":\"y\",\"domain\":[0.0,1.0],\"title\":{\"text\":\"quarter\"}},\"yaxis\":{\"anchor\":\"x\",\"domain\":[0.0,1.0],\"title\":{\"text\":\"prediction_S3\"}},\"legend\":{\"tracegroupgap\":0},\"margin\":{\"t\":60}},                        {\"responsive\": true}                    ).then(function(){\n",
       "                            \n",
       "var gd = document.getElementById('8a03dc4c-7103-4a55-8cb5-2e55883c8d0c');\n",
       "var x = new MutationObserver(function (mutations, observer) {{\n",
       "        var display = window.getComputedStyle(gd).display;\n",
       "        if (!display || display === 'none') {{\n",
       "            console.log([gd, 'removed!']);\n",
       "            Plotly.purge(gd);\n",
       "            observer.disconnect();\n",
       "        }}\n",
       "}});\n",
       "\n",
       "// Listen for the removal of the full notebook cells\n",
       "var notebookContainer = gd.closest('#notebook-container');\n",
       "if (notebookContainer) {{\n",
       "    x.observe(notebookContainer, {childList: true});\n",
       "}}\n",
       "\n",
       "// Listen for the clearing of the current output cell\n",
       "var outputEl = gd.closest('.output');\n",
       "if (outputEl) {{\n",
       "    x.observe(outputEl, {childList: true});\n",
       "}}\n",
       "\n",
       "                        })                };                });            </script>        </div>"
      ]
     },
     "metadata": {},
     "output_type": "display_data"
    }
   ],
   "source": [
    "px.line(results, x='quarter', y=f'prediction_S{3}')"
   ]
  },
  {
   "cell_type": "code",
   "execution_count": null,
   "id": "f93d0d0a-fae9-4897-b62f-062c5b262401",
   "metadata": {},
   "outputs": [],
   "source": []
  }
 ],
 "metadata": {
  "kernelspec": {
   "display_name": "Python 3 (ipykernel)",
   "language": "python",
   "name": "python3"
  },
  "language_info": {
   "codemirror_mode": {
    "name": "ipython",
    "version": 3
   },
   "file_extension": ".py",
   "mimetype": "text/x-python",
   "name": "python",
   "nbconvert_exporter": "python",
   "pygments_lexer": "ipython3",
   "version": "3.11.5"
  }
 },
 "nbformat": 4,
 "nbformat_minor": 5
}
