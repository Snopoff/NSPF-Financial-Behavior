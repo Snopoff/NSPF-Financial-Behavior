{
 "cells": [
  {
   "cell_type": "markdown",
   "id": "4e1a856c-f71d-489c-bb27-31491318f80e",
   "metadata": {},
   "source": [
    "# Exploratory Data Analysis"
   ]
  },
  {
   "cell_type": "code",
   "execution_count": 1,
   "id": "8f332880-8bc2-4c76-b0fb-286e621dafd6",
   "metadata": {},
   "outputs": [],
   "source": [
    "import pandas as pd\n",
    "import sketch"
   ]
  },
  {
   "cell_type": "markdown",
   "id": "fab456b8-f848-486f-8866-bbf0000a7435",
   "metadata": {},
   "source": [
    "## Read the data"
   ]
  },
  {
   "cell_type": "code",
   "execution_count": 4,
   "id": "534bb58b-0878-45d8-83f2-0fe245ee3358",
   "metadata": {},
   "outputs": [],
   "source": [
    "clients_path = 'train_data_npo/npo_clnts.csv'\n",
    "contributors_path = 'train_data_npo/npo_cntrbtrs.csv'\n",
    "transactions_path = 'train_data_npo/npo_trnsctns.csv'"
   ]
  },
  {
   "cell_type": "code",
   "execution_count": 5,
   "id": "396e99a5-8817-493b-9f81-319810e95d72",
   "metadata": {},
   "outputs": [],
   "source": [
    "clients_df = pd.read_csv(clients_path)\n",
    "contributors_df = pd.read_csv(contributors_path)\n",
    "transactions_df = pd.read_csv(transactions_path)"
   ]
  },
  {
   "cell_type": "code",
   "execution_count": 7,
   "id": "20a6035d-0d07-4822-9ffa-3d58a0602025",
   "metadata": {},
   "outputs": [
    {
     "data": {
      "text/html": [
       "<div>\n",
       "<style scoped>\n",
       "    .dataframe tbody tr th:only-of-type {\n",
       "        vertical-align: middle;\n",
       "    }\n",
       "\n",
       "    .dataframe tbody tr th {\n",
       "        vertical-align: top;\n",
       "    }\n",
       "\n",
       "    .dataframe thead th {\n",
       "        text-align: right;\n",
       "    }\n",
       "</style>\n",
       "<table border=\"1\" class=\"dataframe\">\n",
       "  <thead>\n",
       "    <tr style=\"text-align: right;\">\n",
       "      <th></th>\n",
       "      <th>npo_accnt_id</th>\n",
       "      <th>clnt_id</th>\n",
       "      <th>accnt_pnsn_schm</th>\n",
       "      <th>slctn_nmbr</th>\n",
       "      <th>npo_accnt_status</th>\n",
       "      <th>npo_accnt_status_date</th>\n",
       "      <th>npo_blnc</th>\n",
       "      <th>npo_pmnts_sum</th>\n",
       "      <th>npo_pmnts_nmbr</th>\n",
       "      <th>npo_frst_pmnt_date</th>\n",
       "      <th>npo_lst_pmnt_date</th>\n",
       "      <th>npo_ttl_incm</th>\n",
       "    </tr>\n",
       "  </thead>\n",
       "  <tbody>\n",
       "    <tr>\n",
       "      <th>0</th>\n",
       "      <td>0x90B7458B8CBFF24980DEC312BA4A1AF5</td>\n",
       "      <td>0x85390230E8955E4FA736E62B0F0E3844</td>\n",
       "      <td>1.0</td>\n",
       "      <td>0</td>\n",
       "      <td>1</td>\n",
       "      <td>2001-05-14</td>\n",
       "      <td>10158.96</td>\n",
       "      <td>2276.42</td>\n",
       "      <td>1.0</td>\n",
       "      <td>2005-08-31</td>\n",
       "      <td>2005-08-31</td>\n",
       "      <td>5638.83</td>\n",
       "    </tr>\n",
       "    <tr>\n",
       "      <th>1</th>\n",
       "      <td>0xC64D3161D31A8441A65224792D370CB3</td>\n",
       "      <td>0xC2B51FD4FE57F7479210FD7258DF5B0B</td>\n",
       "      <td>3.0</td>\n",
       "      <td>2</td>\n",
       "      <td>0</td>\n",
       "      <td>2018-10-30</td>\n",
       "      <td>NaN</td>\n",
       "      <td>230084.40</td>\n",
       "      <td>55.0</td>\n",
       "      <td>2013-03-07</td>\n",
       "      <td>2017-09-10</td>\n",
       "      <td>39875.30</td>\n",
       "    </tr>\n",
       "    <tr>\n",
       "      <th>2</th>\n",
       "      <td>0xC92F1AA5587E2348BEF17432FBD6C2E6</td>\n",
       "      <td>0x8EC850934FF06A4AA0A856CF43B8D666</td>\n",
       "      <td>4.0</td>\n",
       "      <td>1</td>\n",
       "      <td>0</td>\n",
       "      <td>2014-01-20</td>\n",
       "      <td>NaN</td>\n",
       "      <td>7921.95</td>\n",
       "      <td>8.0</td>\n",
       "      <td>2012-11-26</td>\n",
       "      <td>2013-06-30</td>\n",
       "      <td>207.50</td>\n",
       "    </tr>\n",
       "  </tbody>\n",
       "</table>\n",
       "</div>"
      ],
      "text/plain": [
       "                         npo_accnt_id                             clnt_id  \\\n",
       "0  0x90B7458B8CBFF24980DEC312BA4A1AF5  0x85390230E8955E4FA736E62B0F0E3844   \n",
       "1  0xC64D3161D31A8441A65224792D370CB3  0xC2B51FD4FE57F7479210FD7258DF5B0B   \n",
       "2  0xC92F1AA5587E2348BEF17432FBD6C2E6  0x8EC850934FF06A4AA0A856CF43B8D666   \n",
       "\n",
       "   accnt_pnsn_schm  slctn_nmbr  npo_accnt_status npo_accnt_status_date  \\\n",
       "0              1.0           0                 1            2001-05-14   \n",
       "1              3.0           2                 0            2018-10-30   \n",
       "2              4.0           1                 0            2014-01-20   \n",
       "\n",
       "   npo_blnc  npo_pmnts_sum  npo_pmnts_nmbr npo_frst_pmnt_date  \\\n",
       "0  10158.96        2276.42             1.0         2005-08-31   \n",
       "1       NaN      230084.40            55.0         2013-03-07   \n",
       "2       NaN        7921.95             8.0         2012-11-26   \n",
       "\n",
       "  npo_lst_pmnt_date  npo_ttl_incm  \n",
       "0        2005-08-31       5638.83  \n",
       "1        2017-09-10      39875.30  \n",
       "2        2013-06-30        207.50  "
      ]
     },
     "execution_count": 7,
     "metadata": {},
     "output_type": "execute_result"
    }
   ],
   "source": [
    "contributors_df.head(3)"
   ]
  }
 ],
 "metadata": {
  "kernelspec": {
   "display_name": "Python 3 (ipykernel)",
   "language": "python",
   "name": "python3"
  },
  "language_info": {
   "codemirror_mode": {
    "name": "ipython",
    "version": 3
   },
   "file_extension": ".py",
   "mimetype": "text/x-python",
   "name": "python",
   "nbconvert_exporter": "python",
   "pygments_lexer": "ipython3",
   "version": "3.11.5"
  }
 },
 "nbformat": 4,
 "nbformat_minor": 5
}
