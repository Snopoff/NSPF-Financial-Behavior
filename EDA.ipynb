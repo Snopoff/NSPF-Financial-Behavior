{
 "cells": [
  {
   "cell_type": "markdown",
   "id": "4e1a856c-f71d-489c-bb27-31491318f80e",
   "metadata": {},
   "source": [
    "# Exploratory Data Analysis"
   ]
  },
  {
   "cell_type": "code",
   "execution_count": 1,
   "id": "8f332880-8bc2-4c76-b0fb-286e621dafd6",
   "metadata": {},
   "outputs": [],
   "source": [
    "import pandas as pd\n",
    "import numpy as np\n",
    "import sketch\n",
    "import pgeocode"
   ]
  },
  {
   "cell_type": "markdown",
   "id": "fab456b8-f848-486f-8866-bbf0000a7435",
   "metadata": {},
   "source": [
    "## Read the data"
   ]
  },
  {
   "cell_type": "code",
   "execution_count": 2,
   "id": "534bb58b-0878-45d8-83f2-0fe245ee3358",
   "metadata": {},
   "outputs": [],
   "source": [
    "clients_path = 'train_data_npo/npo_clnts.csv'\n",
    "contributors_path = 'train_data_npo/npo_cntrbtrs.csv'\n",
    "transactions_path = 'train_data_npo/npo_trnsctns.csv'"
   ]
  },
  {
   "cell_type": "code",
   "execution_count": 3,
   "id": "7d3c423a-2036-4443-83fd-50cdb56f50b9",
   "metadata": {},
   "outputs": [],
   "source": [
    "clients_features = {\n",
    "    \"clnt_id\" : \"ID клиента\",\n",
    "    \"slctn_nmbr\" : \"Номер выборки\",\n",
    "    \"gndr\" : \"Пол клиента: м: 0, ж: 1\",\n",
    "    \"age\" : \"Возраст клиента, лет\",\n",
    "    \"brth_yr\" : \"Год рождения клиента\",\n",
    "    \"pstl_code\" : \"Почтовый индекс\",\n",
    "    \"city\" : \"Живет клиент в городе (1) или нет (0)\"\n",
    "}\n",
    "\n",
    "contributors_features = {\n",
    "    \"npo_accnt_id\" : \"ID счета клиента\",\n",
    "    \"client_id\" : \"ID клиента\",\n",
    "    \"slctn_nmbr\" : \"Номер выборки\",\n",
    "    \"accnt_pnsn_schm\" : \"Условный код пенсионной схемы счета клиента\",\n",
    "    \"npo_accnt_status\" : \"Статус счета клиента: Закрыт: 0, Открыт: 1\",\n",
    "    \"npo_accnt_status_date\" : \"Дата статуса счета клиента\",\n",
    "    \"npo_blnc\" : \"Баланс счета клиента, руб.\",\n",
    "    \"npo_pmnts_sum\" : \"Сумма взносов клиента, руб.\",\n",
    "    \"npo_pmnts_nmbr\" : \"Число взносов клиента\",\n",
    "    \"npo_frst_pmnt_date\" : \"Дата первого взноса клиента\",\n",
    "    \"npo_lst_pmnt_date\" : \"Дата последнего взноса клиента\",\n",
    "    \"npo_ttl_incm\" : \"Сумма дохода, начисленного на счет клиента, руб.\"\n",
    "}\n",
    "\n",
    "transactions_features = {\n",
    "    \"npo_accnt_id\" : \"ID клиента\",\n",
    "    \"slctn_nmbr\" : \"Номер выборки\",\n",
    "    \"npo_sum\" : \"Размер операции по счету клиента, руб.\",\n",
    "    \"npo_operation_date\" : \"Дата взноса клиента\",\n",
    "    \"npo_operation_group\" : \"Тип операции по счету клиента: Поступление взносов: 0, Начисление дохода: 1\",\n",
    "}"
   ]
  },
  {
   "cell_type": "code",
   "execution_count": 49,
   "id": "396e99a5-8817-493b-9f81-319810e95d72",
   "metadata": {},
   "outputs": [],
   "source": [
    "clients_df = pd.read_csv(clients_path)\n",
    "contributors_df = pd.read_csv(contributors_path)\n",
    "transactions_df = pd.read_csv(transactions_path)"
   ]
  },
  {
   "cell_type": "code",
   "execution_count": 50,
   "id": "20a6035d-0d07-4822-9ffa-3d58a0602025",
   "metadata": {},
   "outputs": [
    {
     "data": {
      "text/html": [
       "<div>\n",
       "<style scoped>\n",
       "    .dataframe tbody tr th:only-of-type {\n",
       "        vertical-align: middle;\n",
       "    }\n",
       "\n",
       "    .dataframe tbody tr th {\n",
       "        vertical-align: top;\n",
       "    }\n",
       "\n",
       "    .dataframe thead th {\n",
       "        text-align: right;\n",
       "    }\n",
       "</style>\n",
       "<table border=\"1\" class=\"dataframe\">\n",
       "  <thead>\n",
       "    <tr style=\"text-align: right;\">\n",
       "      <th></th>\n",
       "      <th>npo_accnt_id</th>\n",
       "      <th>clnt_id</th>\n",
       "      <th>accnt_pnsn_schm</th>\n",
       "      <th>slctn_nmbr</th>\n",
       "      <th>npo_accnt_status</th>\n",
       "      <th>npo_accnt_status_date</th>\n",
       "      <th>npo_blnc</th>\n",
       "      <th>npo_pmnts_sum</th>\n",
       "      <th>npo_pmnts_nmbr</th>\n",
       "      <th>npo_frst_pmnt_date</th>\n",
       "      <th>npo_lst_pmnt_date</th>\n",
       "      <th>npo_ttl_incm</th>\n",
       "    </tr>\n",
       "  </thead>\n",
       "  <tbody>\n",
       "    <tr>\n",
       "      <th>0</th>\n",
       "      <td>0x90B7458B8CBFF24980DEC312BA4A1AF5</td>\n",
       "      <td>0x85390230E8955E4FA736E62B0F0E3844</td>\n",
       "      <td>1.0</td>\n",
       "      <td>0</td>\n",
       "      <td>1</td>\n",
       "      <td>2001-05-14</td>\n",
       "      <td>10158.96</td>\n",
       "      <td>2276.42</td>\n",
       "      <td>1.0</td>\n",
       "      <td>2005-08-31</td>\n",
       "      <td>2005-08-31</td>\n",
       "      <td>5638.83</td>\n",
       "    </tr>\n",
       "    <tr>\n",
       "      <th>1</th>\n",
       "      <td>0xC64D3161D31A8441A65224792D370CB3</td>\n",
       "      <td>0xC2B51FD4FE57F7479210FD7258DF5B0B</td>\n",
       "      <td>3.0</td>\n",
       "      <td>2</td>\n",
       "      <td>0</td>\n",
       "      <td>2018-10-30</td>\n",
       "      <td>NaN</td>\n",
       "      <td>230084.40</td>\n",
       "      <td>55.0</td>\n",
       "      <td>2013-03-07</td>\n",
       "      <td>2017-09-10</td>\n",
       "      <td>39875.30</td>\n",
       "    </tr>\n",
       "    <tr>\n",
       "      <th>2</th>\n",
       "      <td>0xC92F1AA5587E2348BEF17432FBD6C2E6</td>\n",
       "      <td>0x8EC850934FF06A4AA0A856CF43B8D666</td>\n",
       "      <td>4.0</td>\n",
       "      <td>1</td>\n",
       "      <td>0</td>\n",
       "      <td>2014-01-20</td>\n",
       "      <td>NaN</td>\n",
       "      <td>7921.95</td>\n",
       "      <td>8.0</td>\n",
       "      <td>2012-11-26</td>\n",
       "      <td>2013-06-30</td>\n",
       "      <td>207.50</td>\n",
       "    </tr>\n",
       "  </tbody>\n",
       "</table>\n",
       "</div>"
      ],
      "text/plain": [
       "                         npo_accnt_id                             clnt_id  \\\n",
       "0  0x90B7458B8CBFF24980DEC312BA4A1AF5  0x85390230E8955E4FA736E62B0F0E3844   \n",
       "1  0xC64D3161D31A8441A65224792D370CB3  0xC2B51FD4FE57F7479210FD7258DF5B0B   \n",
       "2  0xC92F1AA5587E2348BEF17432FBD6C2E6  0x8EC850934FF06A4AA0A856CF43B8D666   \n",
       "\n",
       "   accnt_pnsn_schm  slctn_nmbr  npo_accnt_status npo_accnt_status_date  \\\n",
       "0              1.0           0                 1            2001-05-14   \n",
       "1              3.0           2                 0            2018-10-30   \n",
       "2              4.0           1                 0            2014-01-20   \n",
       "\n",
       "   npo_blnc  npo_pmnts_sum  npo_pmnts_nmbr npo_frst_pmnt_date  \\\n",
       "0  10158.96        2276.42             1.0         2005-08-31   \n",
       "1       NaN      230084.40            55.0         2013-03-07   \n",
       "2       NaN        7921.95             8.0         2012-11-26   \n",
       "\n",
       "  npo_lst_pmnt_date  npo_ttl_incm  \n",
       "0        2005-08-31       5638.83  \n",
       "1        2017-09-10      39875.30  \n",
       "2        2013-06-30        207.50  "
      ]
     },
     "execution_count": 50,
     "metadata": {},
     "output_type": "execute_result"
    }
   ],
   "source": [
    "contributors_df.head(3)"
   ]
  },
  {
   "cell_type": "markdown",
   "id": "678a80de-fe2f-4bc7-a047-d64d80c40f9e",
   "metadata": {},
   "source": [
    "## Basic EDA"
   ]
  },
  {
   "cell_type": "markdown",
   "id": "6dcef199-5b7c-406f-adfb-4cb5a102e0db",
   "metadata": {},
   "source": [
    "### `clients_df`"
   ]
  },
  {
   "cell_type": "markdown",
   "id": "51f3c223-7f69-44f7-8246-adfa2c054a61",
   "metadata": {},
   "source": [
    "### Postal codes and state names"
   ]
  },
  {
   "cell_type": "code",
   "execution_count": 6,
   "id": "f9cf00e5-ac5f-4583-af05-f5d47c61f638",
   "metadata": {},
   "outputs": [
    {
     "name": "stdout",
     "output_type": "stream",
     "text": [
      "<class 'pandas.core.frame.DataFrame'>\n",
      "RangeIndex: 230446 entries, 0 to 230445\n",
      "Data columns (total 7 columns):\n",
      " #   Column      Non-Null Count   Dtype  \n",
      "---  ------      --------------   -----  \n",
      " 0   clnt_id     230446 non-null  object \n",
      " 1   gndr        230442 non-null  float64\n",
      " 2   slctn_nmbr  230446 non-null  int64  \n",
      " 3   age         230423 non-null  float64\n",
      " 4   brth_yr     230423 non-null  float64\n",
      " 5   pstl_code   220185 non-null  object \n",
      " 6   city        230446 non-null  int64  \n",
      "dtypes: float64(3), int64(2), object(2)\n",
      "memory usage: 12.3+ MB\n"
     ]
    }
   ],
   "source": [
    "#clients_df.sketch.howto(\"Perform basic EDA on this dataframe\")\n",
    "\n",
    "# Get summary statistics\n",
    "clients_df.describe()\n",
    "\n",
    "# Get descriptive data\n",
    "clients_df.info()"
   ]
  },
  {
   "cell_type": "markdown",
   "id": "dccbe2b5-10d3-4c4d-8a4c-17152cc2bdad",
   "metadata": {},
   "source": [
    "Let's get the regions of the clients:"
   ]
  },
  {
   "cell_type": "code",
   "execution_count": 8,
   "id": "5feaa24c-9155-478b-b475-31de767dc3c3",
   "metadata": {},
   "outputs": [
    {
     "name": "stdout",
     "output_type": "stream",
     "text": [
      "There are 10261 Nones in postal code column\n"
     ]
    }
   ],
   "source": [
    "print(f\"There are {clients_df['pstl_code'].isnull().sum()} Nones in postal code column\")"
   ]
  },
  {
   "cell_type": "code",
   "execution_count": 27,
   "id": "a6c33c49-dfbf-44cc-b0b5-c4d16ecdeba1",
   "metadata": {},
   "outputs": [
    {
     "name": "stdout",
     "output_type": "stream",
     "text": [
      "5 nan\n",
      "879 ******\n",
      "2856 119 454\n",
      "3067 366 325\n",
      "3354 366 300\n",
      "3466 107 589\n",
      "3787 РОССИЯ\n",
      "5139 366 013\n",
      "5953 117 216\n",
      "6568 366 401\n",
      "6798 117 463\n",
      "7170 364 043\n",
      "8356 366 500\n",
      "9504 366 815\n",
      "9667 366 522\n",
      "9912 603 105\n",
      "10016 366 201\n",
      "10166 366 200\n",
      "11063 188 309\n",
      "11858 366 810\n",
      "11976 129 345\n",
      "12036 364 046\n",
      "12326 364 022\n",
      "12901 171 984\n",
      "13211 364 024\n",
      "14151 366 041\n",
      "15014 366 236\n",
      "15150 398 070\n",
      "15175 366 216\n",
      "15437 364 038\n",
      "15572 366 313\n",
      "16114 630 090\n",
      "16171 364 058\n",
      "16264 366 521\n",
      "16450 366 613\n",
      "16561 364 000\n",
      "16577 652 050\n",
      "16981 152 920\n",
      "17106 364 006\n",
      "17230 143 915\n",
      "17334 30.08.\n",
      "17484 366 204\n",
      "18049 141 407\n",
      "18164 366 222\n",
      "18310 364 020\n",
      "18471 630 533\n",
      "18526 125 212\n",
      "18644 366 100\n",
      "18731 390 010\n",
      "19155 364 047\n",
      "19274 364 035\n",
      "20138 364 059\n",
      "20172 366 701\n",
      "20188 366 404\n",
      "20544 БЕЛАРУСЬ\n",
      "20668 366 818\n",
      "20820 366 314\n"
     ]
    }
   ],
   "source": [
    "unique_pstl_codes = clients_df['pstl_code'].unique()\n",
    "for i, code in enumerate(unique_pstl_codes):\n",
    "    try:\n",
    "        intcode = int(float(code))\n",
    "    except:\n",
    "        print(i, code)"
   ]
  },
  {
   "cell_type": "code",
   "execution_count": 55,
   "id": "63db2bcb-9999-4933-9cb3-1f90d4ff05ca",
   "metadata": {},
   "outputs": [],
   "source": [
    "# Get a list of unique values in the pstl_code column\n",
    "unique_pstl_codes = clients_df['pstl_code'].unique()\n",
    "\n",
    "# Create a list of values to remove from the pstl_code column\n",
    "values_to_remove = ['nan', 'None', 'null', '******', 'БЕЛАРУСЬ', 'РОССИЯ', '30.08.']\n",
    "\n",
    "# Filter out the values to remove from the unique list of pstl codes\n",
    "filtered_pstl_codes = [x for x in unique_pstl_codes if x not in values_to_remove]\n",
    "\n",
    "# Replace the values to remove with NaN in the pstl_code column\n",
    "clients_df['pstl_code'] = clients_df['pstl_code'].replace(values_to_remove, np.nan)"
   ]
  },
  {
   "cell_type": "code",
   "execution_count": 58,
   "id": "23d493ed-896e-4dc6-bd13-ae657d92ee42",
   "metadata": {
    "scrolled": true
   },
   "outputs": [
    {
     "data": {
      "text/html": [
       "<div>\n",
       "<style scoped>\n",
       "    .dataframe tbody tr th:only-of-type {\n",
       "        vertical-align: middle;\n",
       "    }\n",
       "\n",
       "    .dataframe tbody tr th {\n",
       "        vertical-align: top;\n",
       "    }\n",
       "\n",
       "    .dataframe thead th {\n",
       "        text-align: right;\n",
       "    }\n",
       "</style>\n",
       "<table border=\"1\" class=\"dataframe\">\n",
       "  <thead>\n",
       "    <tr style=\"text-align: right;\">\n",
       "      <th></th>\n",
       "      <th>clnt_id</th>\n",
       "      <th>gndr</th>\n",
       "      <th>slctn_nmbr</th>\n",
       "      <th>age</th>\n",
       "      <th>brth_yr</th>\n",
       "      <th>pstl_code</th>\n",
       "      <th>city</th>\n",
       "      <th>state_name</th>\n",
       "    </tr>\n",
       "  </thead>\n",
       "  <tbody>\n",
       "    <tr>\n",
       "      <th>0</th>\n",
       "      <td>0xD1930AC934CD0D4AB6141DF45637EFE4</td>\n",
       "      <td>1.0</td>\n",
       "      <td>2</td>\n",
       "      <td>74.0</td>\n",
       "      <td>1949.0</td>\n",
       "      <td>188544</td>\n",
       "      <td>0</td>\n",
       "      <td>Ленинградская Область</td>\n",
       "    </tr>\n",
       "    <tr>\n",
       "      <th>1</th>\n",
       "      <td>0x25DCE99C94913C42A49F739DDA3AE81A</td>\n",
       "      <td>0.0</td>\n",
       "      <td>2</td>\n",
       "      <td>62.0</td>\n",
       "      <td>1961.0</td>\n",
       "      <td>398046</td>\n",
       "      <td>0</td>\n",
       "      <td>Липецкая Область</td>\n",
       "    </tr>\n",
       "    <tr>\n",
       "      <th>2</th>\n",
       "      <td>0xCF29021EFE24454693866565B7CAB0D8</td>\n",
       "      <td>1.0</td>\n",
       "      <td>0</td>\n",
       "      <td>69.0</td>\n",
       "      <td>1954.0</td>\n",
       "      <td>162609.0</td>\n",
       "      <td>0</td>\n",
       "      <td>Вологодская Область</td>\n",
       "    </tr>\n",
       "  </tbody>\n",
       "</table>\n",
       "</div>"
      ],
      "text/plain": [
       "                              clnt_id  gndr  slctn_nmbr   age  brth_yr  \\\n",
       "0  0xD1930AC934CD0D4AB6141DF45637EFE4   1.0           2  74.0   1949.0   \n",
       "1  0x25DCE99C94913C42A49F739DDA3AE81A   0.0           2  62.0   1961.0   \n",
       "2  0xCF29021EFE24454693866565B7CAB0D8   1.0           0  69.0   1954.0   \n",
       "\n",
       "  pstl_code  city             state_name  \n",
       "0    188544     0  Ленинградская Область  \n",
       "1    398046     0       Липецкая Область  \n",
       "2  162609.0     0    Вологодская Область  "
      ]
     },
     "execution_count": 58,
     "metadata": {},
     "output_type": "execute_result"
    }
   ],
   "source": [
    "nomi = pgeocode.Nominatim('ru')\n",
    "clients_df['state_name'] = clients_df['pstl_code'].dropna().str.split().str.join('').apply(lambda x: nomi.query_postal_code(round(float(x))).state_name)\n",
    "clients_df.head(3)"
   ]
  },
  {
   "cell_type": "markdown",
   "id": "dbb59223-f07c-420b-87c9-21fa0be1242b",
   "metadata": {},
   "source": [
    "### Age"
   ]
  },
  {
   "cell_type": "code",
   "execution_count": 61,
   "id": "114503f0-e13e-46f2-a484-a0a099db14d6",
   "metadata": {},
   "outputs": [],
   "source": [
    "clients_df['age'] = clients_df['age'].apply(lambda x: np.nan if x < 0 or x > 110 else x)"
   ]
  },
  {
   "cell_type": "markdown",
   "id": "b667fd7d-42f6-4ccc-af22-ad9e768b46f6",
   "metadata": {},
   "source": [
    "### Gender"
   ]
  },
  {
   "cell_type": "code",
   "execution_count": 66,
   "id": "93cb23eb-3633-425f-80af-bcda96b7eb68",
   "metadata": {},
   "outputs": [
    {
     "data": {
      "text/plain": [
       "array([ 1.,  0., nan])"
      ]
     },
     "execution_count": 66,
     "metadata": {},
     "output_type": "execute_result"
    }
   ],
   "source": [
    "clients_df['gndr'].unique()"
   ]
  },
  {
   "cell_type": "markdown",
   "id": "16c13b4b-6034-4e72-ac0e-e25fd2dadf52",
   "metadata": {},
   "source": [
    "### City"
   ]
  },
  {
   "cell_type": "code",
   "execution_count": 75,
   "id": "e8127931-10be-4fa5-8d52-eea6c62206ca",
   "metadata": {},
   "outputs": [
    {
     "name": "stdout",
     "output_type": "stream",
     "text": [
      "There are 56157 clients who live in a city and 174289 clients who live outside the cities\n"
     ]
    }
   ],
   "source": [
    "# Get the number of rows per unique value in column city\n",
    "city_info = clients_df.groupby('city').size()\n",
    "print(f\"There are {city_info[1]} clients who live in a city and {city_info[0]} clients who live outside the cities\")"
   ]
  },
  {
   "cell_type": "markdown",
   "id": "3d2a0207-295d-4a4d-a958-cd655d62b660",
   "metadata": {},
   "source": [
    "### Drop all nans and save it for future calculations"
   ]
  },
  {
   "cell_type": "code",
   "execution_count": 80,
   "id": "1774560f-67a9-4523-8cc3-54009d76a050",
   "metadata": {},
   "outputs": [
    {
     "name": "stdout",
     "output_type": "stream",
     "text": [
      "<class 'pandas.core.frame.DataFrame'>\n",
      "Index: 209976 entries, 0 to 230445\n",
      "Data columns (total 8 columns):\n",
      " #   Column      Non-Null Count   Dtype  \n",
      "---  ------      --------------   -----  \n",
      " 0   clnt_id     209976 non-null  object \n",
      " 1   gndr        209976 non-null  float64\n",
      " 2   slctn_nmbr  209976 non-null  int64  \n",
      " 3   age         209976 non-null  float64\n",
      " 4   brth_yr     209976 non-null  float64\n",
      " 5   pstl_code   209976 non-null  object \n",
      " 6   city        209976 non-null  int64  \n",
      " 7   state_name  209976 non-null  object \n",
      "dtypes: float64(3), int64(2), object(3)\n",
      "memory usage: 14.4+ MB\n"
     ]
    }
   ],
   "source": [
    "clients_df.dropna(axis=0, how='any', inplace=True)\n",
    "clients_df.info()"
   ]
  },
  {
   "cell_type": "code",
   "execution_count": 82,
   "id": "910946cb-b4b7-484e-a032-ae0973f102a0",
   "metadata": {},
   "outputs": [],
   "source": [
    "clients_df.to_csv('clean_data/clients_df.csv', index=False)"
   ]
  },
  {
   "cell_type": "markdown",
   "id": "cb0fdd8a-baea-47fe-b83c-1de0de4c66a8",
   "metadata": {},
   "source": [
    "### `contributors_df`"
   ]
  },
  {
   "cell_type": "code",
   "execution_count": 11,
   "id": "8b7b55c4-297d-45ab-bade-1f2082e7e3a9",
   "metadata": {},
   "outputs": [
    {
     "name": "stdout",
     "output_type": "stream",
     "text": [
      "<class 'pandas.core.frame.DataFrame'>\n",
      "RangeIndex: 248947 entries, 0 to 248946\n",
      "Data columns (total 12 columns):\n",
      " #   Column                 Non-Null Count   Dtype  \n",
      "---  ------                 --------------   -----  \n",
      " 0   npo_accnt_id           248947 non-null  object \n",
      " 1   clnt_id                248947 non-null  object \n",
      " 2   accnt_pnsn_schm        248866 non-null  float64\n",
      " 3   slctn_nmbr             248947 non-null  int64  \n",
      " 4   npo_accnt_status       248947 non-null  int64  \n",
      " 5   npo_accnt_status_date  248947 non-null  object \n",
      " 6   npo_blnc               119305 non-null  float64\n",
      " 7   npo_pmnts_sum          233181 non-null  float64\n",
      " 8   npo_pmnts_nmbr         233181 non-null  float64\n",
      " 9   npo_frst_pmnt_date     233181 non-null  object \n",
      " 10  npo_lst_pmnt_date      233181 non-null  object \n",
      " 11  npo_ttl_incm           235141 non-null  float64\n",
      "dtypes: float64(5), int64(2), object(5)\n",
      "memory usage: 22.8+ MB\n"
     ]
    }
   ],
   "source": [
    "contributors_df.info()"
   ]
  },
  {
   "cell_type": "code",
   "execution_count": 51,
   "id": "a7de05cb-f52d-495e-b8be-a06321558cc6",
   "metadata": {},
   "outputs": [
    {
     "data": {
      "text/plain": [
       "0         0x90B7458B8CBFF24980DEC312BA4A1AF5\n",
       "1         0xC64D3161D31A8441A65224792D370CB3\n",
       "2         0xC92F1AA5587E2348BEF17432FBD6C2E6\n",
       "3         0x8DDD2D186B990F43AD5FC9F5C7124E16\n",
       "5         0x52646310E2F12B4C811948D16CB97B7C\n",
       "                         ...                \n",
       "248942    0xBCC44D37FC13140845A0699ED3176332\n",
       "248943    0x8120005056AB57EC11EE46637F6FF1F2\n",
       "248944    0x8F61B56D1DD804804FDE77B593B577C5\n",
       "248945    0xA4EF00505692D0BC11EE2608583314E2\n",
       "248946    0xA4F400505692D0BC11EE400B261BE776\n",
       "Name: npo_accnt_id, Length: 233181, dtype: object"
      ]
     },
     "execution_count": 51,
     "metadata": {},
     "output_type": "execute_result"
    }
   ],
   "source": [
    "contributors_df.loc[contributors_df[\"npo_pmnts_nmbr\"].apply(lambda x: not pd.isna(x)), \"npo_accnt_id\"]"
   ]
  },
  {
   "cell_type": "code",
   "execution_count": 54,
   "id": "6c330e3a-7dea-43df-a503-2b4ff00eff44",
   "metadata": {},
   "outputs": [
    {
     "data": {
      "text/html": [
       "<div>\n",
       "<style scoped>\n",
       "    .dataframe tbody tr th:only-of-type {\n",
       "        vertical-align: middle;\n",
       "    }\n",
       "\n",
       "    .dataframe tbody tr th {\n",
       "        vertical-align: top;\n",
       "    }\n",
       "\n",
       "    .dataframe thead th {\n",
       "        text-align: right;\n",
       "    }\n",
       "</style>\n",
       "<table border=\"1\" class=\"dataframe\">\n",
       "  <thead>\n",
       "    <tr style=\"text-align: right;\">\n",
       "      <th></th>\n",
       "      <th>npo_accnt_id</th>\n",
       "      <th>npo_sum</th>\n",
       "      <th>slctn_nmbr</th>\n",
       "      <th>npo_operation_date</th>\n",
       "      <th>npo_operation_group</th>\n",
       "    </tr>\n",
       "  </thead>\n",
       "  <tbody>\n",
       "    <tr>\n",
       "      <th>12323774</th>\n",
       "      <td>0xBCC44D37FC13140845A0699ED3176332</td>\n",
       "      <td>813.0</td>\n",
       "      <td>3</td>\n",
       "      <td>2022-02-25 15:00:01</td>\n",
       "      <td>0</td>\n",
       "    </tr>\n",
       "  </tbody>\n",
       "</table>\n",
       "</div>"
      ],
      "text/plain": [
       "                                npo_accnt_id  npo_sum  slctn_nmbr  \\\n",
       "12323774  0xBCC44D37FC13140845A0699ED3176332    813.0           3   \n",
       "\n",
       "           npo_operation_date  npo_operation_group  \n",
       "12323774  2022-02-25 15:00:01                    0  "
      ]
     },
     "execution_count": 54,
     "metadata": {},
     "output_type": "execute_result"
    }
   ],
   "source": [
    "transactions_df.loc[transactions_df[\"npo_accnt_id\"] == \"0xBCC44D37FC13140845A0699ED3176332\"]"
   ]
  }
 ],
 "metadata": {
  "kernelspec": {
   "display_name": "Python 3 (ipykernel)",
   "language": "python",
   "name": "python3"
  },
  "language_info": {
   "codemirror_mode": {
    "name": "ipython",
    "version": 3
   },
   "file_extension": ".py",
   "mimetype": "text/x-python",
   "name": "python",
   "nbconvert_exporter": "python",
   "pygments_lexer": "ipython3",
   "version": "3.11.5"
  }
 },
 "nbformat": 4,
 "nbformat_minor": 5
}
